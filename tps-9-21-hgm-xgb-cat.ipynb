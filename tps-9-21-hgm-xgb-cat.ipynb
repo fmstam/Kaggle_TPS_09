{
 "cells": [
  {
   "cell_type": "markdown",
   "id": "d60aaa59",
   "metadata": {
    "papermill": {
     "duration": 0.028315,
     "end_time": "2021-09-15T00:55:31.387905",
     "exception": false,
     "start_time": "2021-09-15T00:55:31.359590",
     "status": "completed"
    },
    "tags": []
   },
   "source": [
    "### This notebook describes how to structure a project.\n",
    "\n",
    "During the competition there were many tasks to do, plan, research, test, tune, accept disappointment of failed tests, and be happy with a little improvement. \n",
    "\n",
    "Therefore, the workspace and the files of the project should be structured in a flexible way with less repeated code. In other words, to split code from data/configuration to save time and reduce errors/bugs.\n",
    "\n",
    "Therefore, let us first define the main entities in the project.\n",
    "There are four main entities and usually these are the same in all projects: **experiment**, **model**, **level**, and **stack**. These will be modeled by classes as described in this notebook.\n",
    "\n",
    "\n",
    "*This is a draft work, and will be improved regularly.*\n"
   ]
  },
  {
   "cell_type": "code",
   "execution_count": 1,
   "id": "d63412b1",
   "metadata": {
    "execution": {
     "iopub.execute_input": "2021-09-15T00:55:31.526137Z",
     "iopub.status.busy": "2021-09-15T00:55:31.525455Z",
     "iopub.status.idle": "2021-09-15T00:55:34.799136Z",
     "shell.execute_reply": "2021-09-15T00:55:34.798114Z",
     "shell.execute_reply.started": "2021-09-15T00:47:53.505425Z"
    },
    "papermill": {
     "duration": 3.3831,
     "end_time": "2021-09-15T00:55:34.799314",
     "exception": false,
     "start_time": "2021-09-15T00:55:31.416214",
     "status": "completed"
    },
    "tags": []
   },
   "outputs": [
    {
     "data": {
      "text/html": [
       "<style type='text/css'>\n",
       ".datatable table.frame { margin-bottom: 0; }\n",
       ".datatable table.frame thead { border-bottom: none; }\n",
       ".datatable table.frame tr.coltypes td {  color: #FFFFFF;  line-height: 6px;  padding: 0 0.5em;}\n",
       ".datatable .bool    { background: #DDDD99; }\n",
       ".datatable .object  { background: #565656; }\n",
       ".datatable .int     { background: #5D9E5D; }\n",
       ".datatable .float   { background: #4040CC; }\n",
       ".datatable .str     { background: #CC4040; }\n",
       ".datatable .time    { background: #40CC40; }\n",
       ".datatable .row_index {  background: var(--jp-border-color3);  border-right: 1px solid var(--jp-border-color0);  color: var(--jp-ui-font-color3);  font-size: 9px;}\n",
       ".datatable .frame tbody td { text-align: left; }\n",
       ".datatable .frame tr.coltypes .row_index {  background: var(--jp-border-color0);}\n",
       ".datatable th:nth-child(2) { padding-left: 12px; }\n",
       ".datatable .hellipsis {  color: var(--jp-cell-editor-border-color);}\n",
       ".datatable .vellipsis {  background: var(--jp-layout-color0);  color: var(--jp-cell-editor-border-color);}\n",
       ".datatable .na {  color: var(--jp-cell-editor-border-color);  font-size: 80%;}\n",
       ".datatable .sp {  opacity: 0.25;}\n",
       ".datatable .footer { font-size: 9px; }\n",
       ".datatable .frame_dimensions {  background: var(--jp-border-color3);  border-top: 1px solid var(--jp-border-color0);  color: var(--jp-ui-font-color3);  display: inline-block;  opacity: 0.6;  padding: 1px 10px 1px 5px;}\n",
       "</style>\n"
      ],
      "text/plain": [
       "<IPython.core.display.HTML object>"
      ]
     },
     "metadata": {},
     "output_type": "display_data"
    }
   ],
   "source": [
    "# Familiar imports\n",
    "import numpy as np\n",
    "import pandas as pd\n",
    "import seaborn as sns\n",
    "import matplotlib.pyplot as plt\n",
    "from IPython.display import display\n",
    "\n",
    "import os\n",
    "import gc\n",
    "import glob\n",
    "import random\n",
    "from datetime import datetime\n",
    "from pathlib import Path\n",
    "\n",
    "\n",
    "\n",
    "# helpers\n",
    "from sklearn.preprocessing import OrdinalEncoder, LabelEncoder, OneHotEncoder, PowerTransformer, StandardScaler, \\\n",
    "                                  MinMaxScaler, RobustScaler, PolynomialFeatures\n",
    "from sklearn.impute import SimpleImputer\n",
    "from sklearn.compose import ColumnTransformer\n",
    "from sklearn.model_selection import train_test_split, KFold, cross_val_score, StratifiedKFold\n",
    "from sklearn.pipeline import make_pipeline, Pipeline\n",
    "\n",
    "# memory stuff\n",
    "from fail_safe_parallel_memory_reduction import Reducer\n",
    "\n",
    "\n",
    "# Models\n",
    "from sklearn.ensemble import RandomForestClassifier\n",
    "from sklearn.linear_model import LogisticRegression\n",
    "from sklearn.experimental import enable_hist_gradient_boosting\n",
    "from sklearn.ensemble     import HistGradientBoostingClassifier\n",
    "\n",
    "from xgboost import XGBClassifier\n",
    "from lightgbm import LGBMClassifier\n",
    "from catboost import CatBoostClassifier\n",
    "\n",
    "# base\n",
    "from sklearn.base import BaseEstimator, RegressorMixin, TransformerMixin, clone\n",
    "\n",
    "# scoring\n",
    "from sklearn import metrics"
   ]
  },
  {
   "cell_type": "code",
   "execution_count": 2,
   "id": "46aa5249",
   "metadata": {
    "execution": {
     "iopub.execute_input": "2021-09-15T00:55:34.857867Z",
     "iopub.status.busy": "2021-09-15T00:55:34.857069Z",
     "iopub.status.idle": "2021-09-15T00:55:34.859012Z",
     "shell.execute_reply": "2021-09-15T00:55:34.859394Z",
     "shell.execute_reply.started": "2021-09-15T00:47:55.361039Z"
    },
    "papermill": {
     "duration": 0.03262,
     "end_time": "2021-09-15T00:55:34.859524",
     "exception": false,
     "start_time": "2021-09-15T00:55:34.826904",
     "status": "completed"
    },
    "tags": []
   },
   "outputs": [],
   "source": [
    "# notebook options\n",
    "pd.set_option(\"display.max_columns\", 100)\n",
    "path = \"../input/tabular-playground-series-sep-2021/\"\n",
    "train_file = \"train.csv\"\n",
    "test_file = \"test.csv\""
   ]
  },
  {
   "cell_type": "code",
   "execution_count": 3,
   "id": "ad5da902",
   "metadata": {
    "execution": {
     "iopub.execute_input": "2021-09-15T00:55:34.917841Z",
     "iopub.status.busy": "2021-09-15T00:55:34.917283Z",
     "iopub.status.idle": "2021-09-15T00:56:16.493610Z",
     "shell.execute_reply": "2021-09-15T00:56:16.493084Z",
     "shell.execute_reply.started": "2021-09-15T00:47:55.367372Z"
    },
    "papermill": {
     "duration": 41.607469,
     "end_time": "2021-09-15T00:56:16.493750",
     "exception": false,
     "start_time": "2021-09-15T00:55:34.886281",
     "status": "completed"
    },
    "tags": []
   },
   "outputs": [],
   "source": [
    "# Load the training data\n",
    "train = pd.read_csv(f'{path}{os.sep}{train_file}', index_col=0)\n",
    "test = pd.read_csv(f'{path}{os.sep}{test_file}', index_col=0)"
   ]
  },
  {
   "cell_type": "code",
   "execution_count": 4,
   "id": "e86f62a7",
   "metadata": {
    "execution": {
     "iopub.execute_input": "2021-09-15T00:56:16.559678Z",
     "iopub.status.busy": "2021-09-15T00:56:16.559010Z",
     "iopub.status.idle": "2021-09-15T00:56:16.561997Z",
     "shell.execute_reply": "2021-09-15T00:56:16.562393Z",
     "shell.execute_reply.started": "2021-09-15T00:48:24.689303Z"
    },
    "papermill": {
     "duration": 0.041372,
     "end_time": "2021-09-15T00:56:16.562527",
     "exception": false,
     "start_time": "2021-09-15T00:56:16.521155",
     "status": "completed"
    },
    "tags": []
   },
   "outputs": [],
   "source": [
    "def reduce_mem_usage(dataframe):\n",
    "    m_start = dataframe.memory_usage().sum() / 1024 ** 2\n",
    "    for col in dataframe.columns:\n",
    "        col_type = dataframe[col].dtype\n",
    "        if col_type != object:\n",
    "            c_min = dataframe[col].min()\n",
    "            c_max = dataframe[col].max()\n",
    "            if str(col_type)[:3] == 'int':\n",
    "                if c_min > np.iinfo(np.int8).min and c_max < np.iinfo(np.int8).max:\n",
    "                    dataframe[col] = dataframe[col].astype(np.int8)\n",
    "                elif c_min > np.iinfo(np.int16).min and c_max < np.iinfo(np.int16).max:\n",
    "                    dataframe[col] = dataframe[col].astype(np.int16)\n",
    "                elif c_min > np.iinfo(np.int32).min and c_max < np.iinfo(np.int32).max:\n",
    "                    dataframe[col] = dataframe[col].astype(np.int32)\n",
    "                elif c_min > np.iinfo(np.int64).min and c_max < np.iinfo(np.int64).max:\n",
    "                    dataframe[col] = dataframe[col].astype(np.int64)\n",
    "            elif str(col_type)[:5] == 'float':\n",
    "                if c_min > np.finfo(np.float16).min and c_max < np.finfo(np.float16).max:\n",
    "                    dataframe[col] = dataframe[col].astype(np.float16)\n",
    "                elif c_min > np.finfo(np.float32).min and c_max < np.finfo(np.float32).max:\n",
    "                    dataframe[col] = dataframe[col].astype(np.float32)\n",
    "                else:\n",
    "                    dataframe[col] = dataframe[col].astype(np.float64)\n",
    "\n",
    "    m_end = dataframe.memory_usage().sum() / 1024 ** 2\n",
    "    return dataframe"
   ]
  },
  {
   "cell_type": "code",
   "execution_count": 5,
   "id": "463f12e3",
   "metadata": {
    "execution": {
     "iopub.execute_input": "2021-09-15T00:56:16.625428Z",
     "iopub.status.busy": "2021-09-15T00:56:16.624624Z",
     "iopub.status.idle": "2021-09-15T00:56:16.635438Z",
     "shell.execute_reply": "2021-09-15T00:56:16.634991Z",
     "shell.execute_reply.started": "2021-09-15T00:48:24.703190Z"
    },
    "papermill": {
     "duration": 0.046151,
     "end_time": "2021-09-15T00:56:16.635541",
     "exception": false,
     "start_time": "2021-09-15T00:56:16.589390",
     "status": "completed"
    },
    "tags": []
   },
   "outputs": [
    {
     "name": "stdout",
     "output_type": "stream",
     "text": [
      "Train set size 0.8493092730641365\n",
      "Test set size 0.4338468015193939\n"
     ]
    }
   ],
   "source": [
    "print(f'Train set size {train.memory_usage(index=False).sum()/(2**30)}')\n",
    "print(f'Test set size {test.memory_usage(index=False).sum()/(2**30)}')"
   ]
  },
  {
   "cell_type": "code",
   "execution_count": 6,
   "id": "aee112ce",
   "metadata": {
    "execution": {
     "iopub.execute_input": "2021-09-15T00:56:16.697275Z",
     "iopub.status.busy": "2021-09-15T00:56:16.696518Z",
     "iopub.status.idle": "2021-09-15T00:56:40.297467Z",
     "shell.execute_reply": "2021-09-15T00:56:40.297901Z",
     "shell.execute_reply.started": "2021-09-15T00:48:24.724647Z"
    },
    "papermill": {
     "duration": 23.634706,
     "end_time": "2021-09-15T00:56:40.298047",
     "exception": false,
     "start_time": "2021-09-15T00:56:16.663341",
     "status": "completed"
    },
    "tags": []
   },
   "outputs": [
    {
     "name": "stdout",
     "output_type": "stream",
     "text": [
      "Train set size 0.25247323978692293\n",
      "Test set size 0.12960254028439522\n"
     ]
    }
   ],
   "source": [
    "train = reduce_mem_usage(train)\n",
    "test = reduce_mem_usage(test)\n",
    "gc.collect()\n",
    "print(f'Train set size {train.memory_usage(index=False).sum()/(2**30)}')\n",
    "print(f'Test set size {test.memory_usage(index=False).sum()/(2**30)}')"
   ]
  },
  {
   "cell_type": "code",
   "execution_count": 7,
   "id": "0ee97107",
   "metadata": {
    "execution": {
     "iopub.execute_input": "2021-09-15T00:56:40.355971Z",
     "iopub.status.busy": "2021-09-15T00:56:40.355469Z",
     "iopub.status.idle": "2021-09-15T00:56:40.358690Z",
     "shell.execute_reply": "2021-09-15T00:56:40.359059Z",
     "shell.execute_reply.started": "2021-09-15T00:48:48.699109Z"
    },
    "papermill": {
     "duration": 0.033781,
     "end_time": "2021-09-15T00:56:40.359198",
     "exception": false,
     "start_time": "2021-09-15T00:56:40.325417",
     "status": "completed"
    },
    "tags": []
   },
   "outputs": [],
   "source": [
    "\n",
    "# did not work for me !\n",
    "# # n_jobs=4\n",
    "# # memory reducer\n",
    "# reducer = Reducer(use_categoricals=False)\n",
    "# train = reducer.reduce(train,  verbose=True)\n",
    "# test = reducer.reduce(test)\n",
    "# gc.collect()\n"
   ]
  },
  {
   "cell_type": "code",
   "execution_count": 8,
   "id": "1868fe97",
   "metadata": {
    "execution": {
     "iopub.execute_input": "2021-09-15T00:56:40.419525Z",
     "iopub.status.busy": "2021-09-15T00:56:40.418344Z",
     "iopub.status.idle": "2021-09-15T00:56:40.749855Z",
     "shell.execute_reply": "2021-09-15T00:56:40.749408Z",
     "shell.execute_reply.started": "2021-09-15T00:48:48.704872Z"
    },
    "papermill": {
     "duration": 0.363825,
     "end_time": "2021-09-15T00:56:40.749991",
     "exception": false,
     "start_time": "2021-09-15T00:56:40.386166",
     "status": "completed"
    },
    "tags": []
   },
   "outputs": [],
   "source": [
    "# Separate target from features\n",
    "y = train['claim']\n",
    "X = train.drop(['claim'], axis=1)\n"
   ]
  },
  {
   "cell_type": "markdown",
   "id": "4f7b3507",
   "metadata": {
    "papermill": {
     "duration": 0.026821,
     "end_time": "2021-09-15T00:56:40.804278",
     "exception": false,
     "start_time": "2021-09-15T00:56:40.777457",
     "status": "completed"
    },
    "tags": []
   },
   "source": [
    "### Feature Engineering"
   ]
  },
  {
   "cell_type": "code",
   "execution_count": 9,
   "id": "ca456c18",
   "metadata": {
    "execution": {
     "iopub.execute_input": "2021-09-15T00:56:40.869239Z",
     "iopub.status.busy": "2021-09-15T00:56:40.868343Z",
     "iopub.status.idle": "2021-09-15T00:56:47.430754Z",
     "shell.execute_reply": "2021-09-15T00:56:47.430264Z",
     "shell.execute_reply.started": "2021-09-15T00:48:49.031334Z"
    },
    "papermill": {
     "duration": 6.599471,
     "end_time": "2021-09-15T00:56:47.430894",
     "exception": false,
     "start_time": "2021-09-15T00:56:40.831423",
     "status": "completed"
    },
    "tags": []
   },
   "outputs": [
    {
     "name": "stdout",
     "output_type": "stream",
     "text": [
      "We have 118 numeric and 0 non-numeric features\n"
     ]
    },
    {
     "name": "stderr",
     "output_type": "stream",
     "text": [
      "/opt/conda/lib/python3.7/site-packages/numpy/core/fromnumeric.py:87: RuntimeWarning: overflow encountered in reduce\n",
      "  return ufunc.reduce(obj, axis, dtype, out, **passkwargs)\n",
      "/opt/conda/lib/python3.7/site-packages/numpy/core/_methods.py:47: RuntimeWarning: overflow encountered in reduce\n",
      "  return umr_sum(a, axis, dtype, out, keepdims, initial, where)\n"
     ]
    }
   ],
   "source": [
    "\n",
    "# identify columns\n",
    "numerical_cols = list(X.select_dtypes(include=np.number).columns)\n",
    "non_numeric_cols = list(X.select_dtypes(include=['object', 'bool']).columns)\n",
    "\n",
    "print(f'We have {len(numerical_cols)} numeric and {len(non_numeric_cols)} non-numeric features')\n",
    "\n",
    "\n",
    "# work on a copy\n",
    "X_train = X.copy()\n",
    "X_test = test.copy()\n",
    "\n",
    "\n",
    "# all features\n",
    "features = non_numeric_cols + numerical_cols\n",
    "\n",
    "# new features\n",
    "# https://www.kaggle.com/hiro5299834/tps-sep-2021-single-lgbm\n",
    "X_train['n_missing'] = X_train[features].isna().sum(axis=1)\n",
    "X_test['n_missing'] = X_test[features].isna().sum(axis=1)\n",
    "\n",
    "X_train['std'] = X_train[features].std(axis=1)\n",
    "X_test['std'] = X_test[features].std(axis=1)\n",
    "\n",
    "#X_train['min'] = X_train[features].min(axis=1)\n",
    "#X_test['min'] = X_test[features].min(axis=1)\n",
    "\n",
    "features += ['n_missing', 'std']\n",
    "#n_missing = X_train['n_missing'].copy()\n",
    "\n",
    "# imputation\n",
    "X_train[features] = X_train[features].fillna(X_train[features].mean())\n",
    "X_test[features] = X_test[features].fillna(X_test[features].mean())\n",
    "\n",
    "# scaler = RobustScaler()\n",
    "# X_train[features] = scaler.fit_transform(X_train[features])\n",
    "# X_test[features] = scaler.transform(X_test[features])\n",
    "\n",
    "\n",
    "# useful for column transformers \n",
    "numerical_ix = X_train.columns.get_indexer(features)\n",
    "#non_numeric_ix = X_train.columns.get_indexer(non_numeric_cols)"
   ]
  },
  {
   "cell_type": "markdown",
   "id": "97b6b922",
   "metadata": {
    "papermill": {
     "duration": 0.027899,
     "end_time": "2021-09-15T00:56:47.488166",
     "exception": false,
     "start_time": "2021-09-15T00:56:47.460267",
     "status": "completed"
    },
    "tags": []
   },
   "source": [
    "### Model-dev helper functions\n",
    "\n",
    "These are functions to save and load predictions, they can be wrapped within a class for a better modeling or kept as they are since they are independent of the project setting.\n"
   ]
  },
  {
   "cell_type": "code",
   "execution_count": 10,
   "id": "259f1137",
   "metadata": {
    "code_folding": [],
    "execution": {
     "iopub.execute_input": "2021-09-15T00:56:47.553565Z",
     "iopub.status.busy": "2021-09-15T00:56:47.551113Z",
     "iopub.status.idle": "2021-09-15T00:56:47.555540Z",
     "shell.execute_reply": "2021-09-15T00:56:47.555899Z",
     "shell.execute_reply.started": "2021-09-15T00:48:55.573251Z"
    },
    "papermill": {
     "duration": 0.040168,
     "end_time": "2021-09-15T00:56:47.556022",
     "exception": false,
     "start_time": "2021-09-15T00:56:47.515854",
     "status": "completed"
    },
    "tags": []
   },
   "outputs": [],
   "source": [
    "\n",
    "## helper fucntions\n",
    "def seed_everything(seed=42):\n",
    "    random.seed(seed)\n",
    "    os.environ['PYTHONHASHSEED'] = str(seed)\n",
    "    np.random.seed(seed)\n",
    "\n",
    "def to_file(data, output_folder, idxs=None, suffix='.csv'):\n",
    "    print(data)\n",
    "    df = pd.DataFrame(data)\n",
    "    df.to_csv(f'{output_folder}{os.sep}{suffix}', index=True)\n",
    "        \n",
    "    \n",
    "def calc_folds_indexes(X, y, n_folds=5, shuffle=True, sampler=KFold, seeds=[42]):\n",
    "    \"\"\"\n",
    "    Create folds from a dataset X and a target y\n",
    "    sampler: can be KFold,  StratifiedKFold, or any sampling class  \n",
    "    \n",
    "    return a list of dictionaries of {'seed':, 'idxs':[train_idxs, test_idxs]}\n",
    "    \"\"\"\n",
    "    folds_idxs_list = []\n",
    "    for seed in seeds:\n",
    "        folds = sampler(n_splits=n_folds, \n",
    "                        random_state=seed,\n",
    "                        shuffle=shuffle)\n",
    "\n",
    "        folds_idxs_list.append({'seed': seed, 'idxs':list(folds.split(X, y))})\n",
    "        \n",
    "    return folds_idxs_list   \n",
    "\n",
    "def score(y, target, average=False):\n",
    "    # if y is a list then it will return a list of scores\n",
    "    # if average is True then it will return the mean of the scores\n",
    "    \n",
    "    if type(y) in [list, np.ndarray]:\n",
    "        scores = []\n",
    "        for y_i in y:\n",
    "            scores.append(score_func(y_i, target, **score_func_params))\n",
    "        if average:\n",
    "            return np.mean(scores)\n",
    "        else:\n",
    "            return scores\n",
    "        \n",
    "    return score_func(y, target, **score_func_param)\n"
   ]
  },
  {
   "cell_type": "code",
   "execution_count": 11,
   "id": "568c9905",
   "metadata": {
    "execution": {
     "iopub.execute_input": "2021-09-15T00:56:47.615934Z",
     "iopub.status.busy": "2021-09-15T00:56:47.615146Z",
     "iopub.status.idle": "2021-09-15T00:56:47.617083Z",
     "shell.execute_reply": "2021-09-15T00:56:47.617507Z",
     "shell.execute_reply.started": "2021-09-15T00:48:55.585366Z"
    },
    "papermill": {
     "duration": 0.033702,
     "end_time": "2021-09-15T00:56:47.617626",
     "exception": false,
     "start_time": "2021-09-15T00:56:47.583924",
     "status": "completed"
    },
    "tags": []
   },
   "outputs": [],
   "source": [
    "# initialize things\n",
    "\n",
    "# seed\n",
    "seed = 42\n",
    "seed_everything(seed)"
   ]
  },
  {
   "cell_type": "markdown",
   "id": "bad196c9",
   "metadata": {
    "papermill": {
     "duration": 0.028224,
     "end_time": "2021-09-15T00:56:47.673965",
     "exception": false,
     "start_time": "2021-09-15T00:56:47.645741",
     "status": "completed"
    },
    "tags": []
   },
   "source": [
    "### Forward selection"
   ]
  },
  {
   "cell_type": "code",
   "execution_count": 12,
   "id": "542d4e50",
   "metadata": {
    "execution": {
     "iopub.execute_input": "2021-09-15T00:56:47.738497Z",
     "iopub.status.busy": "2021-09-15T00:56:47.732993Z",
     "iopub.status.idle": "2021-09-15T00:56:47.740355Z",
     "shell.execute_reply": "2021-09-15T00:56:47.740804Z",
     "shell.execute_reply.started": "2021-09-15T00:48:55.596850Z"
    },
    "papermill": {
     "duration": 0.038984,
     "end_time": "2021-09-15T00:56:47.740919",
     "exception": false,
     "start_time": "2021-09-15T00:56:47.701935",
     "status": "completed"
    },
    "tags": []
   },
   "outputs": [],
   "source": [
    "def HillClimber():\n",
    "    \"\"\" Ensembel multiple OOFs meta-features.\n",
    "        See https://www.kaggle.com/cdeotte/forward-selection-oof-ensemble-0-942-private\n",
    "    \"\"\"\n",
    "    def __init__(self,\n",
    "                 resolution,\n",
    "                 tol,\n",
    "                 patience, \n",
    "                 score=score, \n",
    "                 duplicat=False):\n",
    "        self.resolution = resolution\n",
    "        self.tol = tol\n",
    "        self.patience = patience\n",
    "        self.score = score\n",
    "        \n",
    "    def hill_climb(self, X, y, verbose=True):\n",
    "\n",
    "        best_x_idx = np.argmax(X)\n",
    "        best_score = X[best_x]\n",
    "        selected =  [best_x_idx]\n",
    "        weights = [1] \n",
    "        print(f'Initial score from the best model {best_x_idx} is {best_score} ')\n",
    "        for x in X:\n",
    "            if not duplicate and x in selected:\n",
    "                continue       \n",
    "            # find best weights\n",
    "            best_alpha = 0\n",
    "            some_improvement = False\n",
    "            for i in range(int(resolution * patience)):\n",
    "                alpha_i = i / resolution\n",
    "                score_i = alpha_i * x + (1 - alpha_i) * best_score\n",
    "                \n",
    "                # significant improvement?\n",
    "                if score_i > best_score and ((score_i - best_score) >= self.tol): \n",
    "                    best_alpha = alpha_i\n",
    "                    best_score = score_i\n",
    "                    some_improvement = True\n",
    "            \n",
    "            if some_improvement:\n",
    "                weights.append(best_alpha)\n",
    "            \n",
    "        return best_score, selected, weights"
   ]
  },
  {
   "cell_type": "markdown",
   "id": "fdead475",
   "metadata": {
    "papermill": {
     "duration": 0.027911,
     "end_time": "2021-09-15T00:56:47.796500",
     "exception": false,
     "start_time": "2021-09-15T00:56:47.768589",
     "status": "completed"
    },
    "tags": []
   },
   "source": [
    "### ModelWrapper \n",
    "This main role of this class is to avoid coding multiple classes for each model (or model types). We can see that models can actually be categorized into different categories, where some models accept more parameters than the others. For instance xgboost can use an evaluation set to determine the stopping round number, while Lasso does not have such extra parameters.\n",
    "\n",
    "Thanks to the flexibility of Python and the design of the base models, we can wrap the model and develope a `wrapper` to do what the model should do. In fact, we can easily stretch this class to support sklearn pipelines or any framework we are using. The idea is again, seperate code from data and try to generalize.\n"
   ]
  },
  {
   "cell_type": "code",
   "execution_count": 13,
   "id": "a7409ce9",
   "metadata": {
    "execution": {
     "iopub.execute_input": "2021-09-15T00:56:47.863252Z",
     "iopub.status.busy": "2021-09-15T00:56:47.862475Z",
     "iopub.status.idle": "2021-09-15T00:56:47.864844Z",
     "shell.execute_reply": "2021-09-15T00:56:47.864437Z",
     "shell.execute_reply.started": "2021-09-15T00:48:55.610864Z"
    },
    "papermill": {
     "duration": 0.040217,
     "end_time": "2021-09-15T00:56:47.864956",
     "exception": false,
     "start_time": "2021-09-15T00:56:47.824739",
     "status": "completed"
    },
    "tags": []
   },
   "outputs": [],
   "source": [
    "class ModelWrapper():\n",
    "    def __init__(self, \n",
    "                 model,\n",
    "                 name,\n",
    "                 uses_eval_set=False,\n",
    "                 fit_params={}):\n",
    "        \n",
    "        self.model = model\n",
    "        self.name = name\n",
    "        \n",
    "        self.uses_eval_set = uses_eval_set\n",
    "        self.fit_params = fit_params # any extra params for the 'fit' function\n",
    "                \n",
    "    def fit(self, X, y, eval_set=None):\n",
    "        if self.uses_eval_set:\n",
    "            self.model.fit(X, y, eval_set=eval_set, **(self.fit_params))\n",
    "        else:\n",
    "            self.model.fit(X, y, **(self.fit_params)) \n",
    "        return self\n",
    "    \n",
    "\n",
    "    def predict(self, X):\n",
    "        return self.model.predict(X)\n",
    "\n",
    "    def predict_proba(self, X):\n",
    "        return self.model.predict_proba(X)\n",
    "    \n",
    "    def clone_me(self, random_state=None):\n",
    "        wrapper = ModelWrapper(model=clone(self.model), # clone from sklean.base\n",
    "                               name=self.name, \n",
    "                               uses_eval_set=self.uses_eval_set,\n",
    "                               fit_params=self.fit_params)\n",
    "        wrapper.name = self.name\n",
    "        if random_state is not None:\n",
    "            wrapper.set_random_state(random_state)\n",
    "        \n",
    "        return wrapper\n",
    "    \n",
    "    def set_random_state(self, random_state):\n",
    "        if hasattr(self.model, 'random_state'):\n",
    "            self.model.random_state = random_state\n",
    "        elif hasattr(self.model, 'random_seed'):\n",
    "            self.model.random_seed = random_state\n",
    "            \n",
    "    def get_random_state(self):\n",
    "        if hasattr(self.model, 'random_state'):\n",
    "            return self.model.random_state \n",
    "        elif hasattr(self.model, 'random_seed'):\n",
    "            return self.model.random_seed\n",
    "    \n",
    "        "
   ]
  },
  {
   "cell_type": "markdown",
   "id": "e0d746dc",
   "metadata": {
    "papermill": {
     "duration": 0.02908,
     "end_time": "2021-09-15T00:56:47.922145",
     "exception": false,
     "start_time": "2021-09-15T00:56:47.893065",
     "status": "completed"
    },
    "tags": []
   },
   "source": [
    "### ModelTrainer\n",
    "This role of this class is to train a model and calculate the oofs and the test predictions (meta-features). That is, to cross validate.\n"
   ]
  },
  {
   "cell_type": "code",
   "execution_count": 14,
   "id": "7f3a43ea",
   "metadata": {
    "execution": {
     "iopub.execute_input": "2021-09-15T00:56:47.992069Z",
     "iopub.status.busy": "2021-09-15T00:56:47.991239Z",
     "iopub.status.idle": "2021-09-15T00:56:47.993025Z",
     "shell.execute_reply": "2021-09-15T00:56:47.993430Z",
     "shell.execute_reply.started": "2021-09-15T00:48:55.625900Z"
    },
    "papermill": {
     "duration": 0.04288,
     "end_time": "2021-09-15T00:56:47.993555",
     "exception": false,
     "start_time": "2021-09-15T00:56:47.950675",
     "status": "completed"
    },
    "tags": []
   },
   "outputs": [],
   "source": [
    "class ModelTrainer():\n",
    "    def __init__(self,\n",
    "                  model: ModelWrapper):\n",
    "        \n",
    "        self.model = model\n",
    "        \n",
    "    def cross_validate(self,\n",
    "                  X, y,\n",
    "                  X_test,\n",
    "                  folds_idxs,\n",
    "                  transformer=None,\n",
    "                  fit_transform_on_test_set=False,\n",
    "                  verbose=False,\n",
    "                  use_different_random_states=True, \n",
    "                  score_function=metrics.roc_auc_score,\n",
    "                  score_function_params={}):\n",
    "        \"\"\"\n",
    "        Return the oofs predictions and the meta features (test predictions)\n",
    "        \"\"\"\n",
    "        \n",
    "        test_predictions = 0\n",
    "        oof_predictions = np.zeros_like(np.array(y), dtype=np.float64)\n",
    "        valid_mean_score = [] \n",
    "        for fold, (train_ix, valid_ix) in enumerate(folds_idxs): # we are not using spilit here for a better generalization\n",
    "            X_train, X_valid = X[train_ix], X[valid_ix]\n",
    "            y_train, y_valid = y[train_ix], y[valid_ix]\n",
    "                             \n",
    "            # transform input\n",
    "            if transformer is not None:\n",
    "                X_train = transformer.fit_transform(X_train)\n",
    "                if fit_transform_on_test_set:\n",
    "                    X_valid = transformer.fit_transform(X_valid)\n",
    "                    X_test_ = transformer.fit_transform(X_test)\n",
    "                else:\n",
    "                    X_test_ = transformer.transform(X_test)\n",
    "                    X_valid = transformer.transform(X_valid)\n",
    "            else:\n",
    "                X_test_ = X_test\n",
    "                \n",
    "            # check if we train each fold on differently initialized clone\n",
    "            if use_different_random_states:\n",
    "                model = self.model.clone_me(random_state=fold)\n",
    "            else:\n",
    "                model = self.model.clone_me()\n",
    "            \n",
    "            # fit the model\n",
    "            if model.uses_eval_set:\n",
    "                model.fit(X_train, y_train, eval_set=[(X_train, y_train), (X_valid, y_valid)])\n",
    "            else:\n",
    "                model.fit(X_train, y_train)\n",
    "                \n",
    "            ## predictions\n",
    "            # on the validation set\n",
    "            valid_predications = model.predict_proba(X_valid)[:, -1]\n",
    "#             print(valid_predications[1:10, -1])\n",
    "            score = score_function(y_valid, valid_predications)\n",
    "            valid_mean_score.append(score)\n",
    "            #for i, x in enumerate(valid_ix):                \n",
    "            oof_predictions[valid_ix] = valid_predications\n",
    "#             print(valid_predications[valid_ix[1:10]])\n",
    "            \n",
    "            # on the test set        \n",
    "            test_predictions += model.predict_proba(X_test_)[:, -1] / len(folds_idxs)\n",
    "            \n",
    "            if verbose:\n",
    "                print('Fold:{} score:{:.4f}'.format(fold + 1, score))\n",
    "        \n",
    "        if verbose:\n",
    "            print('Average score:{:.4f} ({:.4f})'.format(np.mean(valid_mean_score), np.std(valid_mean_score) ))\n",
    "    \n",
    "        return oof_predictions, test_predictions"
   ]
  },
  {
   "cell_type": "markdown",
   "id": "7b200c69",
   "metadata": {
    "papermill": {
     "duration": 0.028849,
     "end_time": "2021-09-15T00:56:48.050230",
     "exception": false,
     "start_time": "2021-09-15T00:56:48.021381",
     "status": "completed"
    },
    "tags": []
   },
   "source": [
    "### Level\n",
    "The level class glues all components in a given layer"
   ]
  },
  {
   "cell_type": "code",
   "execution_count": 15,
   "id": "ea3e4c19",
   "metadata": {
    "execution": {
     "iopub.execute_input": "2021-09-15T00:56:48.116668Z",
     "iopub.status.busy": "2021-09-15T00:56:48.115881Z",
     "iopub.status.idle": "2021-09-15T00:56:48.117738Z",
     "shell.execute_reply": "2021-09-15T00:56:48.118457Z",
     "shell.execute_reply.started": "2021-09-15T00:48:55.641834Z"
    },
    "papermill": {
     "duration": 0.04041,
     "end_time": "2021-09-15T00:56:48.118581",
     "exception": false,
     "start_time": "2021-09-15T00:56:48.078171",
     "status": "completed"
    },
    "tags": []
   },
   "outputs": [],
   "source": [
    "class Level():\n",
    "    def __init__(self,\n",
    "                level_id,\n",
    "                models,\n",
    "                folder,\n",
    "                transformer,\n",
    "                n_folds=5,\n",
    "                seeds=[42],\n",
    "                frozen=False,\n",
    "                fit_transform_on_test_set = False,\n",
    "                use_different_random_states=True):\n",
    "        \n",
    "        self.level_id = level_id\n",
    "        self.models = models\n",
    "        self.folder = folder\n",
    "        self.transformer = transformer\n",
    "        self.n_folds = n_folds\n",
    "        self.seeds = seeds\n",
    "        self.frozen = frozen=False\n",
    "        self.fit_transform_on_test_set = fit_transform_on_test_set\n",
    "        self.use_different_random_states = use_different_random_states\n",
    "    \n",
    "    def create(self, model_zoo):\n",
    "        \"\"\"\n",
    "         Create a level.\n",
    "         model_zoo: a dictionay of all avialable models.\n",
    "        \"\"\"\n",
    "        self.model_wrappers = []\n",
    "        \n",
    "        # get models \n",
    "        # if models is set to 'all' use all models\n",
    "        if self.models[0].lower() == 'all':\n",
    "            level_models_names = model_zoo.keys()\n",
    "        else: \n",
    "            level_models_names = self.models\n",
    "\n",
    "        for model_name in level_models_names:\n",
    "            # get paramaters  \n",
    "            model = model_zoo[model_name]\n",
    "            fit_kwargs = model_zoo[model_name]['fit_kwargs']\n",
    "            app_params = model_zoo[model_name]['app_params']\n",
    "\n",
    "            model_wrapper = ModelWrapper(model=model['model'], name=model_name)\n",
    "            if fit_kwargs is not None:\n",
    "                model_wrapper.fit_params = fit_kwargs\n",
    "            if app_params is not None:\n",
    "                model_wrapper.uses_eval_set = app_params['uses_eval_set']\n",
    "            self.model_wrappers.append(model_wrapper)"
   ]
  },
  {
   "cell_type": "markdown",
   "id": "6293f237",
   "metadata": {
    "papermill": {
     "duration": 0.027998,
     "end_time": "2021-09-15T00:56:48.174307",
     "exception": false,
     "start_time": "2021-09-15T00:56:48.146309",
     "status": "completed"
    },
    "tags": []
   },
   "source": [
    "#### Level Trainer\n",
    "Trains all models in a given level."
   ]
  },
  {
   "cell_type": "code",
   "execution_count": 16,
   "id": "03f25cac",
   "metadata": {
    "execution": {
     "iopub.execute_input": "2021-09-15T00:56:48.241460Z",
     "iopub.status.busy": "2021-09-15T00:56:48.240652Z",
     "iopub.status.idle": "2021-09-15T00:56:48.242547Z",
     "shell.execute_reply": "2021-09-15T00:56:48.242989Z",
     "shell.execute_reply.started": "2021-09-15T00:48:55.654676Z"
    },
    "papermill": {
     "duration": 0.041103,
     "end_time": "2021-09-15T00:56:48.243107",
     "exception": false,
     "start_time": "2021-09-15T00:56:48.202004",
     "status": "completed"
    },
    "tags": []
   },
   "outputs": [],
   "source": [
    "class LevelTrainer():\n",
    "    def __init__(self,\n",
    "                level,\n",
    "                seeds_folds_idxs_list):\n",
    "        self.level = level\n",
    "        self.seeds_folds_idxs_list = seeds_folds_idxs_list\n",
    "        \n",
    "    def train(self, X_train, y, X_test, verbose=True, agg_func=None):\n",
    "        \"\"\"\n",
    "        train the level and return the oofs and meta-features for each model in the level.\n",
    "        If the level has many seeds it will either use the agg_func to combine predictions\n",
    "        or will just return eveything, it depends on agg_func\n",
    "        \n",
    "        agg_func: can be None, np.mean, or any other numpy reduction function\n",
    "        \"\"\"\n",
    "\n",
    "        level_oof_preds, level_test_preds = {}, {}\n",
    "        for model_wrapper in self.level.model_wrappers:\n",
    "            if verbose:\n",
    "                print('-'*30)\n",
    "                print(f'Model:{model_wrapper.name}')\n",
    "                print('-'*30)\n",
    "\n",
    "            # train each model with as many times as the length of folds_idxs_list \n",
    "            model_oof_preds, model_test_preds = [], []\n",
    "            \n",
    "            for seeds_folds_idxs in self.seeds_folds_idxs_list:\n",
    "                seed, folds_idxs = seeds_folds_idxs['seed'], seeds_folds_idxs['idxs']\n",
    "                print('-'*30)\n",
    "                print(f'Seed:{seed}')\n",
    "                print('-'*30)\n",
    "                \n",
    "                trainer = ModelTrainer(model_wrapper)\n",
    "                oof_preds, test_preds = trainer.cross_validate(X_train, \n",
    "                                                          y,\n",
    "                                                          X_test,\n",
    "                                                          transformer=self.level.transformer,\n",
    "                                                          folds_idxs=folds_idxs,\n",
    "                                                          verbose=verbose,\n",
    "                                                          fit_transform_on_test_set=self.level.fit_transform_on_test_set)\n",
    "                if agg_func is None:\n",
    "                    level_oof_preds[f'{model_wrapper.name}_seed_{seed}'] =  oof_preds\n",
    "                    level_test_preds[f'{model_wrapper.name}_seed_{seed}'] =  test_preds\n",
    "                else: # collect them in order to aggregate them with the agg_func function\n",
    "                    model_oof_preds.append(oof_preds)\n",
    "                    model_test_preds.append(test_preds)\n",
    "\n",
    "          # aggregate the results\n",
    "        if agg_func is not None:\n",
    "            level_oof_preds[f'{model_wrapper.name}'] = agg_func(np.column_stack(model_oof_preds))\n",
    "            level_test_preds[f'{model_wrapper.name}'] = agg_func(np.column_stack(model_test_preds))\n",
    "\n",
    "        if verbose:\n",
    "            print('-'*30)\n",
    "\n",
    "        return pd.DataFrame(level_oof_preds), pd.DataFrame(level_test_preds)"
   ]
  },
  {
   "cell_type": "markdown",
   "id": "a56c579d",
   "metadata": {
    "papermill": {
     "duration": 0.027833,
     "end_time": "2021-09-15T00:56:48.298820",
     "exception": false,
     "start_time": "2021-09-15T00:56:48.270987",
     "status": "completed"
    },
    "tags": []
   },
   "source": [
    "### Experiment \n",
    "Since in many cases everything boils down to stacking, the experiment class will handle the organization of the resulted files from the test: test and oofs predictions. Therefore, assuming the project has the following structure with a folder called **experiments** we can save our tests in this folder. This is what this class will do. This class is the entry point for any run (experiment) in the project. It reads the input and the settings and produces the output.\n",
    "\n",
    "```\n",
    "    ML30_project\n",
    "    │   README.md\n",
    "    │\n",
    "    └───notebooks\n",
    "    │   ...\n",
    "    │\n",
    "    └───experiments\n",
    "    │   │   \n",
    "    │   │\n",
    "    │   └───experiment_1   \n",
    "    │   │   level_1_oofs.csv\n",
    "    │   │   level_1_test.csv\n",
    "    │   │   level_2_oofs.csv\n",
    "    │   │   level_2_test.csv\n",
    "    │   │   ...\n",
    "    │   │   meta_level_oofs.csv\n",
    "    │   │   meta_level_test.csv\n",
    "    │   └───experiment_...\n",
    "```\n",
    "\n",
    "\n",
    ">The code that generated the results is important to save too, but that can be done easily by creating a new version of the notebook or copying notebook with the CV_LB results. If we are running it in a local machine without notebooks, we can create a small function to copy the code files to the experiment levels. On other words, to save the code and the results for each experiement for a better look up.\n",
    "\n",
    ">This class is so important when running notebooks in our computers. Since Kaggle has a nice notebook management system it saves outputs as well.\n",
    "\n"
   ]
  },
  {
   "cell_type": "code",
   "execution_count": 17,
   "id": "2fdca65b",
   "metadata": {
    "execution": {
     "iopub.execute_input": "2021-09-15T00:56:48.370493Z",
     "iopub.status.busy": "2021-09-15T00:56:48.362284Z",
     "iopub.status.idle": "2021-09-15T00:56:48.372756Z",
     "shell.execute_reply": "2021-09-15T00:56:48.372347Z",
     "shell.execute_reply.started": "2021-09-15T00:48:55.670020Z"
    },
    "papermill": {
     "duration": 0.04617,
     "end_time": "2021-09-15T00:56:48.372855",
     "exception": false,
     "start_time": "2021-09-15T00:56:48.326685",
     "status": "completed"
    },
    "tags": []
   },
   "outputs": [],
   "source": [
    "class Experiment():\n",
    "    def __init__(self,\n",
    "                 title,\n",
    "                 description,\n",
    "                 stack,\n",
    "                 model_zoo,\n",
    "                 main_folder=os.getcwd()):\n",
    "        \n",
    "        self.title = title\n",
    "        self.main_folder = main_folder\n",
    "        self.stack = stack\n",
    "        self.model_zoo = model_zoo\n",
    "        self.description = description\n",
    "        # create the main folder if it does not exist\n",
    "        if not os.path.exists(f'{self.main_folder}'):\n",
    "            os.makedirs(f'{self.main_folder}', exist_ok=True)\n",
    "        \n",
    "    def join_folder(self, folder=None):\n",
    "         \"\"\"\n",
    "         Join a folder and output where results will be saved.\n",
    "         If 'folder' is None, it will create a folder\n",
    "         with a time stamp.\n",
    "         \"\"\"\n",
    "\n",
    "         # create time stamp and subfolder with the current time stamp\n",
    "         if folder is not None: # if folder is specified\n",
    "            self.output_folder = folder \n",
    "            # create a folder if does not exit.\n",
    "            folder_path = f'{self.main_folder}{os.sep}{self.output_folder}'\n",
    "            if not os.path.exists(folder_path):\n",
    "                os.makedirs(folder_path)                \n",
    "         else: # create a folder with the time stamp\n",
    "            time_stamp = datetime.now().isoformat(' ', 'seconds')\n",
    "            self.output_folder = self.title + ' ' + time_stamp.replace(':', '-')\n",
    "            # create and replace if it exits.\n",
    "            Path(f'{self.main_folder}{os.sep}{self.output_folder}').mkdir(parents=True, exist_ok=True)\n",
    "    \n",
    "    \n",
    "    def run(self, X_train, y, X_test, \n",
    "            train_idxs,\n",
    "            test_idxs,\n",
    "            verbose=True, store=True):\n",
    "        \n",
    "        # run the stack\n",
    "        for  level_params in self.stack:\n",
    "            # create all models in the level\n",
    "            level = Level(**level_params)\n",
    "            level.create(self.model_zoo)\n",
    "\n",
    "            print('-'*50)\n",
    "            print(f'Current Level: {level.level_id}')\n",
    "            print('-'*50)\n",
    "\n",
    "            # join the level's output folder\n",
    "            #self.join_folder(folder=level.folder)\n",
    "\n",
    "            # create folds indexes for the level\n",
    "            seeds_folds_idxs_list = calc_folds_indexes(X=X_train,\n",
    "                                                       y=y,\n",
    "                                                       n_folds=level.n_folds,\n",
    "                                                       sampler=StratifiedKFold,\n",
    "                                                       seeds=level.seeds)\n",
    "\n",
    "            # train the level\n",
    "            if not level.frozen:  # escape any trained level   \n",
    "                level_trainer = LevelTrainer(level=level, \n",
    "                                             seeds_folds_idxs_list=seeds_folds_idxs_list)\n",
    "\n",
    "                level_oof_preds, level_test_preds =  level_trainer.train(X_train=X_train,\n",
    "                                                                         y=y,\n",
    "                                                                         X_test=X_test)\n",
    "                # store predictions?\n",
    "                if store:\n",
    "                    # oofs \n",
    "                    level_oof_preds.to_csv(f'{self.main_folder}{os.sep}{self.output_folder}{os.sep}{level.level_id}_oofs.csv')\n",
    "                    # test predictions\n",
    "                    level_test_preds.to_csv(f'{self.main_folder}{os.sep}{self.output_folder}{os.sep}{level.level_id}_test.csv')\n",
    "                    \n",
    "                \n",
    "                # update train and test \n",
    "                X_train, X_test = level_oof_preds.values, level_test_preds.values\n",
    "            else:\n",
    "                print('This level is already trained')\n",
    "                # load saved of this level and raise error\n",
    "                fold_id = level.n_folds\n",
    "                folder =f'{self.main_folder}{os.sep}{self.output_folder}'\n",
    "                \n",
    "                # new features \n",
    "                level_oof_preds = pd.read_csv(f\"{folder}{os.sep}*{fold_id}_oofs.csv\")\n",
    "                level_test_preds = pdf.read_csv(f\"{folder}{os.sep}*{fold_id}_test.csv\")\n",
    "                \n",
    "                X_train = level_oof_preds.values\n",
    "                X_test = level_test_preds.values\n",
    "                \n",
    "            if verbose:\n",
    "                display(level_oof_preds.head(10))\n",
    "                display(level_test_preds.head(10))\n",
    "                \n",
    "        # return the last output from the last level\n",
    "        return level_test_preds"
   ]
  },
  {
   "cell_type": "markdown",
   "id": "14c85f2c",
   "metadata": {
    "papermill": {
     "duration": 0.028054,
     "end_time": "2021-09-15T00:56:48.428623",
     "exception": false,
     "start_time": "2021-09-15T00:56:48.400569",
     "status": "completed"
    },
    "tags": []
   },
   "source": [
    "### Hyperparameters\n",
    "\n",
    "Here goes the paramaters of each model. These can actually be stored in an external JSON file.\n"
   ]
  },
  {
   "cell_type": "code",
   "execution_count": 18,
   "id": "b8e005f1",
   "metadata": {
    "execution": {
     "iopub.execute_input": "2021-09-15T00:56:48.496276Z",
     "iopub.status.busy": "2021-09-15T00:56:48.492923Z",
     "iopub.status.idle": "2021-09-15T00:56:48.498533Z",
     "shell.execute_reply": "2021-09-15T00:56:48.498128Z",
     "shell.execute_reply.started": "2021-09-15T00:48:55.687631Z"
    },
    "papermill": {
     "duration": 0.041391,
     "end_time": "2021-09-15T00:56:48.498635",
     "exception": false,
     "start_time": "2021-09-15T00:56:48.457244",
     "status": "completed"
    },
    "tags": []
   },
   "outputs": [],
   "source": [
    "# rf\n",
    "rf_params = {\n",
    "    'n_jobs': -1,\n",
    "    'n_estimators': 100,\n",
    "    'max_features': 0.2,\n",
    "    'max_depth': 8,\n",
    "    'min_samples_leaf': 2\n",
    "}\n",
    "\n",
    "hgb_params = {\n",
    "    'max_bins': 255,\n",
    "    'max_depth': 31,\n",
    "    'max_leaf_nodes': 185\n",
    "}\n",
    "\n",
    "hgb_params = {'l2_regularization': 0.2734400901671028,\n",
    "              'learning_rate': 0.4284455920281809, \n",
    "              'max_depth': 30}\n",
    "\n",
    "# lgbm\n",
    "# https://www.kaggle.com/hiro5299834/tps-sep-2021-single-lgbm\n",
    "lgb_params_1 = {\n",
    "    'device' : 'gpu',\n",
    "    'objective': 'binary',\n",
    "    'metric': 'auc',\n",
    "    'n_estimators': 20000,\n",
    "    'random_state': 42,\n",
    "    'learning_rate': 5e-3,\n",
    "    'subsample': 0.6,\n",
    "    'subsample_freq': 1,\n",
    "    'colsample_bytree': 0.4,\n",
    "    'reg_alpha': 10.0,\n",
    "    'reg_lambda': 1e-1,\n",
    "    'min_child_weight': 256,\n",
    "    'min_child_samples': 20,\n",
    "}\n",
    "\n",
    "lgb_params_2 = {\n",
    "    'metric' : 'auc',\n",
    "    'objective' : 'binary',\n",
    "    'device_type': 'gpu', \n",
    "    'n_estimators': 10000, \n",
    "    'learning_rate': 0.12230165751633416, \n",
    "    'num_leaves': 1400, \n",
    "    'max_depth': 8, \n",
    "    'min_child_samples': 300, \n",
    "    'reg_alpha': 10, \n",
    "    'reg_lambda': 65, \n",
    "    'min_split_gain': 5.157818977461183, \n",
    "    'subsample': 0.5, \n",
    "    'subsample_freq': 1, \n",
    "    'colsample_bytree': 0.2,\n",
    "    'random_state': 42\n",
    "}\n",
    "\n",
    "\n",
    "catb_params = {\n",
    "    'eval_metric' : 'AUC',\n",
    "    'iterations': 15585, \n",
    "    'objective': 'CrossEntropy',\n",
    "    'bootstrap_type': 'Bernoulli', \n",
    "    'od_wait': 1144, \n",
    "    'learning_rate': 0.023575206684596582, \n",
    "    'reg_lambda': 36.30433203563295, \n",
    "    'random_strength': 43.75597655616195, \n",
    "    'depth': 7, \n",
    "    'min_data_in_leaf': 11, \n",
    "    'leaf_estimation_iterations': 1, \n",
    "    'subsample': 0.8227911142845009,\n",
    "    'task_type' : 'GPU',\n",
    "    'devices' : '0',\n",
    "    'verbose' : 0\n",
    "}\n",
    "\n",
    "xgb_params = {\n",
    "    'eval_metric': 'auc', \n",
    "    'objective': 'binary:logistic', \n",
    "    'tree_method': 'gpu_hist', \n",
    "    'gpu_id': 0, \n",
    "    'predictor': 'gpu_predictor', \n",
    "    'n_estimators': 20000, \n",
    "    'learning_rate': 0.01063045229441343, \n",
    "    'gamma': 0.24652519525750877, \n",
    "    'max_depth': 4, \n",
    "    'min_child_weight': 366, \n",
    "    'subsample': 0.6423040816299684, \n",
    "    'colsample_bytree': 0.7751264493218339, \n",
    "    'colsample_bylevel': 0.8675692743597421, \n",
    "    'lambda': 0, \n",
    "    'alpha': 10\n",
    "}"
   ]
  },
  {
   "cell_type": "code",
   "execution_count": 19,
   "id": "90810621",
   "metadata": {
    "execution": {
     "iopub.execute_input": "2021-09-15T00:56:48.677196Z",
     "iopub.status.busy": "2021-09-15T00:56:48.675634Z",
     "iopub.status.idle": "2021-09-15T00:56:48.679261Z",
     "shell.execute_reply": "2021-09-15T00:56:48.678821Z",
     "shell.execute_reply.started": "2021-09-15T00:48:55.702466Z"
    },
    "papermill": {
     "duration": 0.152931,
     "end_time": "2021-09-15T00:56:48.679379",
     "exception": false,
     "start_time": "2021-09-15T00:56:48.526448",
     "status": "completed"
    },
    "tags": []
   },
   "outputs": [
    {
     "data": {
      "text/plain": [
       "42"
      ]
     },
     "execution_count": 19,
     "metadata": {},
     "output_type": "execute_result"
    }
   ],
   "source": [
    "gc.collect()"
   ]
  },
  {
   "cell_type": "markdown",
   "id": "62151f7a",
   "metadata": {
    "papermill": {
     "duration": 0.028279,
     "end_time": "2021-09-15T00:56:48.736734",
     "exception": false,
     "start_time": "2021-09-15T00:56:48.708455",
     "status": "completed"
    },
    "tags": []
   },
   "source": [
    "### These are model/task dependent parameters"
   ]
  },
  {
   "cell_type": "code",
   "execution_count": 20,
   "id": "a0af53dc",
   "metadata": {
    "execution": {
     "iopub.execute_input": "2021-09-15T00:56:48.797696Z",
     "iopub.status.busy": "2021-09-15T00:56:48.797118Z",
     "iopub.status.idle": "2021-09-15T00:56:48.799521Z",
     "shell.execute_reply": "2021-09-15T00:56:48.799884Z",
     "shell.execute_reply.started": "2021-09-15T00:48:55.837322Z"
    },
    "papermill": {
     "duration": 0.035136,
     "end_time": "2021-09-15T00:56:48.800019",
     "exception": false,
     "start_time": "2021-09-15T00:56:48.764883",
     "status": "completed"
    },
    "tags": []
   },
   "outputs": [],
   "source": [
    "# external hyperparamaters\n",
    "\n",
    "### fit function hyperparamaters\n",
    "# some models require special paramaters like early stoping in xgboost and lgbm\n",
    "fit_params = {'early_stopping_rounds': 300,\n",
    "                  'verbose': 1000}\n",
    "\n",
    "### application/implementation paramaters\n",
    "# These paramaters are implementation dependent \n",
    "app_params = {'uses_eval_set':True}\n",
    "\n"
   ]
  },
  {
   "cell_type": "markdown",
   "id": "f0b00356",
   "metadata": {
    "papermill": {
     "duration": 0.02798,
     "end_time": "2021-09-15T00:56:48.856036",
     "exception": false,
     "start_time": "2021-09-15T00:56:48.828056",
     "status": "completed"
    },
    "tags": []
   },
   "source": [
    "### Models"
   ]
  },
  {
   "cell_type": "code",
   "execution_count": 21,
   "id": "a43d0daa",
   "metadata": {
    "execution": {
     "iopub.execute_input": "2021-09-15T00:56:48.920453Z",
     "iopub.status.busy": "2021-09-15T00:56:48.919695Z",
     "iopub.status.idle": "2021-09-15T00:56:48.922134Z",
     "shell.execute_reply": "2021-09-15T00:56:48.921726Z",
     "shell.execute_reply.started": "2021-09-15T00:48:55.845277Z"
    },
    "papermill": {
     "duration": 0.037499,
     "end_time": "2021-09-15T00:56:48.922250",
     "exception": false,
     "start_time": "2021-09-15T00:56:48.884751",
     "status": "completed"
    },
    "tags": []
   },
   "outputs": [],
   "source": [
    "lr = LogisticRegression()\n",
    "rf = RandomForestClassifier(**rf_params)\n",
    "hgb = HistGradientBoostingClassifier()\n",
    "lgb_1 = LGBMClassifier(**lgb_params_1)\n",
    "lgb_2 = LGBMClassifier(**lgb_params_2)\n",
    "xgb = XGBClassifier(**xgb_params)\n",
    "catb = CatBoostClassifier(**catb_params)"
   ]
  },
  {
   "cell_type": "code",
   "execution_count": 22,
   "id": "adfea85b",
   "metadata": {
    "execution": {
     "iopub.execute_input": "2021-09-15T00:56:48.985607Z",
     "iopub.status.busy": "2021-09-15T00:56:48.984857Z",
     "iopub.status.idle": "2021-09-15T00:56:48.987259Z",
     "shell.execute_reply": "2021-09-15T00:56:48.986837Z",
     "shell.execute_reply.started": "2021-09-15T00:48:55.853911Z"
    },
    "papermill": {
     "duration": 0.036878,
     "end_time": "2021-09-15T00:56:48.987358",
     "exception": false,
     "start_time": "2021-09-15T00:56:48.950480",
     "status": "completed"
    },
    "tags": []
   },
   "outputs": [],
   "source": [
    "# compile all settings in one dictionary, \n",
    "# we can store/load it then to a JSON file\n",
    "model_zoo = {\n",
    "          'RandomForestClassifier': {\"model\": rf, \"fit_kwargs\":None, \"app_params\": None},\n",
    "          'LogisticRegression': {\"model\": lr, \"fit_kwargs\":None, \"app_params\": None},\n",
    "          'HistGradientBoostingClassifier': {\"model\": hgb, \"fit_kwargs\":None, \"app_params\": None},\n",
    "          'LGBMClassifier-1': {\"model\": lgb_1, \"fit_kwargs\":fit_params, \"app_params\": app_params},\n",
    "          'LGBMClassifier-2': {\"model\": lgb_2, \"fit_kwargs\":fit_params, \"app_params\": app_params},\n",
    "          'XGBClassifier': {\"model\": xgb, \"fit_kwargs\":fit_params, \"app_params\": app_params},\n",
    "          'CatBoostClassifier': {\"model\": catb, \"fit_kwargs\":fit_params, \"app_params\": app_params},\n",
    "          # we can add any number of models here \n",
    "        }"
   ]
  },
  {
   "cell_type": "code",
   "execution_count": 23,
   "id": "ca28d06e",
   "metadata": {
    "execution": {
     "iopub.execute_input": "2021-09-15T00:56:49.048302Z",
     "iopub.status.busy": "2021-09-15T00:56:49.047664Z",
     "iopub.status.idle": "2021-09-15T00:56:49.050262Z",
     "shell.execute_reply": "2021-09-15T00:56:49.050747Z",
     "shell.execute_reply.started": "2021-09-15T00:48:55.863070Z"
    },
    "papermill": {
     "duration": 0.034998,
     "end_time": "2021-09-15T00:56:49.050862",
     "exception": false,
     "start_time": "2021-09-15T00:56:49.015864",
     "status": "completed"
    },
    "tags": []
   },
   "outputs": [
    {
     "data": {
      "text/plain": [
       "dict_keys(['RandomForestClassifier', 'LogisticRegression', 'HistGradientBoostingClassifier', 'LGBMClassifier-1', 'LGBMClassifier-2', 'XGBClassifier', 'CatBoostClassifier'])"
      ]
     },
     "execution_count": 23,
     "metadata": {},
     "output_type": "execute_result"
    }
   ],
   "source": [
    "model_zoo.keys()"
   ]
  },
  {
   "cell_type": "markdown",
   "id": "f7d295cb",
   "metadata": {
    "papermill": {
     "duration": 0.029176,
     "end_time": "2021-09-15T00:56:49.108673",
     "exception": false,
     "start_time": "2021-09-15T00:56:49.079497",
     "status": "completed"
    },
    "tags": []
   },
   "source": [
    "### Stacking\n",
    "\n",
    "Here goes the actual stacking procedure. \n",
    "   - We first define the architecture, and setup the a session.\n",
    "   - Define the stack. That is, the models and transformers in the levels"
   ]
  },
  {
   "cell_type": "code",
   "execution_count": 24,
   "id": "606954c9",
   "metadata": {
    "execution": {
     "iopub.execute_input": "2021-09-15T00:56:49.173829Z",
     "iopub.status.busy": "2021-09-15T00:56:49.169049Z",
     "iopub.status.idle": "2021-09-15T00:56:49.176367Z",
     "shell.execute_reply": "2021-09-15T00:56:49.175938Z",
     "shell.execute_reply.started": "2021-09-15T00:48:55.874028Z"
    },
    "papermill": {
     "duration": 0.039465,
     "end_time": "2021-09-15T00:56:49.176468",
     "exception": false,
     "start_time": "2021-09-15T00:56:49.137003",
     "status": "completed"
    },
    "tags": []
   },
   "outputs": [],
   "source": [
    "# settings: experiment and stacking architecutre\n",
    "\n",
    "# initialize the stack to the input\n",
    "X_train_, X_test_ = X_train, X_test\n",
    "\n",
    "# any special transformers for any level\n",
    "#\n",
    "pipe_line = Pipeline([\n",
    "    ('imputer', SimpleImputer(strategy='mean')),\n",
    "    ('scaler',  RobustScaler())\n",
    "])\n",
    "\n",
    "level_1_transformers = [('num', RobustScaler(), numerical_ix)]\n",
    "\n",
    "level_1_transform = ColumnTransformer(transformers=level_1_transformers)\n",
    "\n",
    "\n",
    "# define the actual stack\n",
    "stack = [ {\"level_id\": \"level-1\", \n",
    "           \"models\": [\n",
    "                     'XGBClassifier'\n",
    "                    ],\n",
    "            \"n_folds\": 5,\n",
    "            \"seeds\" : [42, 43, 44, 45, 46, 47, 48, 49, 50],\n",
    "            \"folder\": \"level_1\", \n",
    "            \"transformer\": level_1_transform,\n",
    "            \"fit_transform_on_test_set\": False,\n",
    "            \"frozen\": False # to freeze the level if already trained\n",
    "            },\n",
    "            \n",
    "#          {\"level_id\": \"level-2\",\n",
    "#            \"models\": [\n",
    "#                      'CatBoostRegressor',\n",
    "#                      'XGBRegressor-1',\n",
    "#                      #'XGBRegressor-2',\n",
    "#                      'RandomForestRegressor'\n",
    "#                      #'LinearRegression',\n",
    "#                      # we can add any model here\n",
    "#                     ],\n",
    "#             \"n_folds\": 5,\n",
    "#             \"seeds\" : [46, 47],\n",
    "#             \"folder\": \"level_2\", \n",
    "#             \"transformer\": None, \n",
    "#             \"frozen\": False # to freeze the level if already trained\n",
    "#             },\n",
    "         \n",
    "         # ...\n",
    "         # we can add any number of levels here\n",
    "         # ...\n",
    "         \n",
    "          {\"level_id\": \"meta_level\",\n",
    "            \"models\": [#'LinearRegression',\n",
    "                       'RandomForestClassifier'\n",
    "                      ],\n",
    "            \"n_folds\": 5,\n",
    "            \"seeds\" : [42],\n",
    "            \"folder\": \"meta_level\",\n",
    "            \"transformer\": None,\n",
    "            \"fit_transform_on_test_set\": False,\n",
    "            \"frozen\": False\n",
    "          }\n",
    "         \n",
    "         \n",
    "        ]\n",
    "         "
   ]
  },
  {
   "cell_type": "markdown",
   "id": "7e4e4dcd",
   "metadata": {
    "papermill": {
     "duration": 0.028362,
     "end_time": "2021-09-15T00:56:49.233682",
     "exception": false,
     "start_time": "2021-09-15T00:56:49.205320",
     "status": "completed"
    },
    "tags": []
   },
   "source": [
    "- Loop through each level in the stack"
   ]
  },
  {
   "cell_type": "code",
   "execution_count": 25,
   "id": "d9914526",
   "metadata": {
    "code_folding": [],
    "execution": {
     "iopub.execute_input": "2021-09-15T00:56:49.296290Z",
     "iopub.status.busy": "2021-09-15T00:56:49.295460Z",
     "iopub.status.idle": "2021-09-15T04:08:25.823674Z",
     "shell.execute_reply": "2021-09-15T04:08:25.824050Z",
     "shell.execute_reply.started": "2021-09-15T00:48:55.885194Z"
    },
    "papermill": {
     "duration": 11496.561995,
     "end_time": "2021-09-15T04:08:25.824240",
     "exception": false,
     "start_time": "2021-09-15T00:56:49.262245",
     "status": "completed"
    },
    "tags": []
   },
   "outputs": [
    {
     "name": "stdout",
     "output_type": "stream",
     "text": [
      "--------------------------------------------------\n",
      "Current Level: level-1\n",
      "--------------------------------------------------\n",
      "------------------------------\n",
      "Model:XGBClassifier\n",
      "------------------------------\n",
      "------------------------------\n",
      "Seed:42\n",
      "------------------------------\n"
     ]
    },
    {
     "name": "stderr",
     "output_type": "stream",
     "text": [
      "/opt/conda/lib/python3.7/site-packages/xgboost/sklearn.py:1146: UserWarning: The use of label encoder in XGBClassifier is deprecated and will be removed in a future release. To remove this warning, do the following: 1) Pass option use_label_encoder=False when constructing XGBClassifier object; and 2) Encode your labels (y) as integers starting with 0, i.e. 0, 1, 2, ..., [num_class - 1].\n",
      "  warnings.warn(label_encoder_deprecation_msg, UserWarning)\n"
     ]
    },
    {
     "name": "stdout",
     "output_type": "stream",
     "text": [
      "[0]\tvalidation_0-auc:0.79922\tvalidation_1-auc:0.79867\n",
      "[1000]\tvalidation_0-auc:0.81754\tvalidation_1-auc:0.81093\n",
      "[2000]\tvalidation_0-auc:0.82187\tvalidation_1-auc:0.81319\n",
      "[3000]\tvalidation_0-auc:0.82476\tvalidation_1-auc:0.81430\n",
      "[4000]\tvalidation_0-auc:0.82720\tvalidation_1-auc:0.81489\n",
      "[5000]\tvalidation_0-auc:0.82953\tvalidation_1-auc:0.81528\n",
      "[6000]\tvalidation_0-auc:0.83184\tvalidation_1-auc:0.81558\n",
      "[7000]\tvalidation_0-auc:0.83416\tvalidation_1-auc:0.81576\n",
      "[8000]\tvalidation_0-auc:0.83647\tvalidation_1-auc:0.81590\n",
      "[9000]\tvalidation_0-auc:0.83869\tvalidation_1-auc:0.81602\n",
      "[10000]\tvalidation_0-auc:0.84090\tvalidation_1-auc:0.81612\n",
      "[10933]\tvalidation_0-auc:0.84293\tvalidation_1-auc:0.81616\n",
      "Fold:1 score:0.8162\n"
     ]
    },
    {
     "name": "stderr",
     "output_type": "stream",
     "text": [
      "/opt/conda/lib/python3.7/site-packages/xgboost/sklearn.py:1146: UserWarning: The use of label encoder in XGBClassifier is deprecated and will be removed in a future release. To remove this warning, do the following: 1) Pass option use_label_encoder=False when constructing XGBClassifier object; and 2) Encode your labels (y) as integers starting with 0, i.e. 0, 1, 2, ..., [num_class - 1].\n",
      "  warnings.warn(label_encoder_deprecation_msg, UserWarning)\n"
     ]
    },
    {
     "name": "stdout",
     "output_type": "stream",
     "text": [
      "[0]\tvalidation_0-auc:0.79869\tvalidation_1-auc:0.79876\n",
      "[1000]\tvalidation_0-auc:0.81749\tvalidation_1-auc:0.81311\n",
      "[2000]\tvalidation_0-auc:0.82183\tvalidation_1-auc:0.81495\n",
      "[3000]\tvalidation_0-auc:0.82470\tvalidation_1-auc:0.81577\n",
      "[4000]\tvalidation_0-auc:0.82725\tvalidation_1-auc:0.81616\n",
      "[5000]\tvalidation_0-auc:0.82968\tvalidation_1-auc:0.81647\n",
      "[6000]\tvalidation_0-auc:0.83204\tvalidation_1-auc:0.81672\n",
      "[7000]\tvalidation_0-auc:0.83437\tvalidation_1-auc:0.81687\n",
      "[8000]\tvalidation_0-auc:0.83664\tvalidation_1-auc:0.81699\n",
      "[9000]\tvalidation_0-auc:0.83887\tvalidation_1-auc:0.81711\n",
      "[9590]\tvalidation_0-auc:0.84018\tvalidation_1-auc:0.81713\n",
      "Fold:2 score:0.8171\n"
     ]
    },
    {
     "name": "stderr",
     "output_type": "stream",
     "text": [
      "/opt/conda/lib/python3.7/site-packages/xgboost/sklearn.py:1146: UserWarning: The use of label encoder in XGBClassifier is deprecated and will be removed in a future release. To remove this warning, do the following: 1) Pass option use_label_encoder=False when constructing XGBClassifier object; and 2) Encode your labels (y) as integers starting with 0, i.e. 0, 1, 2, ..., [num_class - 1].\n",
      "  warnings.warn(label_encoder_deprecation_msg, UserWarning)\n"
     ]
    },
    {
     "name": "stdout",
     "output_type": "stream",
     "text": [
      "[0]\tvalidation_0-auc:0.79897\tvalidation_1-auc:0.79814\n",
      "[1000]\tvalidation_0-auc:0.81778\tvalidation_1-auc:0.81141\n",
      "[2000]\tvalidation_0-auc:0.82206\tvalidation_1-auc:0.81340\n",
      "[3000]\tvalidation_0-auc:0.82489\tvalidation_1-auc:0.81431\n",
      "[4000]\tvalidation_0-auc:0.82733\tvalidation_1-auc:0.81492\n",
      "[5000]\tvalidation_0-auc:0.82975\tvalidation_1-auc:0.81533\n",
      "[6000]\tvalidation_0-auc:0.83215\tvalidation_1-auc:0.81559\n",
      "[7000]\tvalidation_0-auc:0.83449\tvalidation_1-auc:0.81576\n",
      "[8000]\tvalidation_0-auc:0.83676\tvalidation_1-auc:0.81590\n",
      "[9000]\tvalidation_0-auc:0.83900\tvalidation_1-auc:0.81605\n",
      "[10000]\tvalidation_0-auc:0.84116\tvalidation_1-auc:0.81614\n",
      "[11000]\tvalidation_0-auc:0.84333\tvalidation_1-auc:0.81621\n",
      "[11462]\tvalidation_0-auc:0.84431\tvalidation_1-auc:0.81622\n",
      "Fold:3 score:0.8162\n"
     ]
    },
    {
     "name": "stderr",
     "output_type": "stream",
     "text": [
      "/opt/conda/lib/python3.7/site-packages/xgboost/sklearn.py:1146: UserWarning: The use of label encoder in XGBClassifier is deprecated and will be removed in a future release. To remove this warning, do the following: 1) Pass option use_label_encoder=False when constructing XGBClassifier object; and 2) Encode your labels (y) as integers starting with 0, i.e. 0, 1, 2, ..., [num_class - 1].\n",
      "  warnings.warn(label_encoder_deprecation_msg, UserWarning)\n"
     ]
    },
    {
     "name": "stdout",
     "output_type": "stream",
     "text": [
      "[0]\tvalidation_0-auc:0.79892\tvalidation_1-auc:0.79842\n",
      "[1000]\tvalidation_0-auc:0.81774\tvalidation_1-auc:0.81142\n",
      "[2000]\tvalidation_0-auc:0.82202\tvalidation_1-auc:0.81336\n",
      "[3000]\tvalidation_0-auc:0.82498\tvalidation_1-auc:0.81430\n",
      "[4000]\tvalidation_0-auc:0.82749\tvalidation_1-auc:0.81476\n",
      "[5000]\tvalidation_0-auc:0.82988\tvalidation_1-auc:0.81511\n",
      "[6000]\tvalidation_0-auc:0.83221\tvalidation_1-auc:0.81538\n",
      "[7000]\tvalidation_0-auc:0.83453\tvalidation_1-auc:0.81551\n",
      "[8000]\tvalidation_0-auc:0.83678\tvalidation_1-auc:0.81564\n",
      "[9000]\tvalidation_0-auc:0.83905\tvalidation_1-auc:0.81571\n",
      "[10000]\tvalidation_0-auc:0.84123\tvalidation_1-auc:0.81578\n",
      "[11000]\tvalidation_0-auc:0.84340\tvalidation_1-auc:0.81584\n",
      "[11599]\tvalidation_0-auc:0.84468\tvalidation_1-auc:0.81586\n",
      "Fold:4 score:0.8159\n"
     ]
    },
    {
     "name": "stderr",
     "output_type": "stream",
     "text": [
      "/opt/conda/lib/python3.7/site-packages/xgboost/sklearn.py:1146: UserWarning: The use of label encoder in XGBClassifier is deprecated and will be removed in a future release. To remove this warning, do the following: 1) Pass option use_label_encoder=False when constructing XGBClassifier object; and 2) Encode your labels (y) as integers starting with 0, i.e. 0, 1, 2, ..., [num_class - 1].\n",
      "  warnings.warn(label_encoder_deprecation_msg, UserWarning)\n"
     ]
    },
    {
     "name": "stdout",
     "output_type": "stream",
     "text": [
      "[0]\tvalidation_0-auc:0.79751\tvalidation_1-auc:0.79691\n",
      "[1000]\tvalidation_0-auc:0.81781\tvalidation_1-auc:0.81075\n",
      "[2000]\tvalidation_0-auc:0.82224\tvalidation_1-auc:0.81268\n",
      "[3000]\tvalidation_0-auc:0.82510\tvalidation_1-auc:0.81362\n",
      "[4000]\tvalidation_0-auc:0.82752\tvalidation_1-auc:0.81417\n",
      "[5000]\tvalidation_0-auc:0.82995\tvalidation_1-auc:0.81452\n",
      "[6000]\tvalidation_0-auc:0.83225\tvalidation_1-auc:0.81480\n",
      "[7000]\tvalidation_0-auc:0.83456\tvalidation_1-auc:0.81502\n",
      "[8000]\tvalidation_0-auc:0.83679\tvalidation_1-auc:0.81518\n",
      "[9000]\tvalidation_0-auc:0.83903\tvalidation_1-auc:0.81532\n",
      "[10000]\tvalidation_0-auc:0.84120\tvalidation_1-auc:0.81540\n",
      "[10906]\tvalidation_0-auc:0.84314\tvalidation_1-auc:0.81544\n",
      "Fold:5 score:0.8154\n",
      "Average score:0.8162 (0.0006)\n",
      "------------------------------\n",
      "Seed:43\n",
      "------------------------------\n"
     ]
    },
    {
     "name": "stderr",
     "output_type": "stream",
     "text": [
      "/opt/conda/lib/python3.7/site-packages/xgboost/sklearn.py:1146: UserWarning: The use of label encoder in XGBClassifier is deprecated and will be removed in a future release. To remove this warning, do the following: 1) Pass option use_label_encoder=False when constructing XGBClassifier object; and 2) Encode your labels (y) as integers starting with 0, i.e. 0, 1, 2, ..., [num_class - 1].\n",
      "  warnings.warn(label_encoder_deprecation_msg, UserWarning)\n"
     ]
    },
    {
     "name": "stdout",
     "output_type": "stream",
     "text": [
      "[0]\tvalidation_0-auc:0.79831\tvalidation_1-auc:0.79689\n",
      "[1000]\tvalidation_0-auc:0.81789\tvalidation_1-auc:0.80987\n",
      "[2000]\tvalidation_0-auc:0.82224\tvalidation_1-auc:0.81198\n",
      "[3000]\tvalidation_0-auc:0.82499\tvalidation_1-auc:0.81291\n",
      "[4000]\tvalidation_0-auc:0.82751\tvalidation_1-auc:0.81354\n",
      "[5000]\tvalidation_0-auc:0.82988\tvalidation_1-auc:0.81393\n",
      "[6000]\tvalidation_0-auc:0.83220\tvalidation_1-auc:0.81420\n",
      "[7000]\tvalidation_0-auc:0.83452\tvalidation_1-auc:0.81439\n",
      "[8000]\tvalidation_0-auc:0.83680\tvalidation_1-auc:0.81458\n",
      "[9000]\tvalidation_0-auc:0.83901\tvalidation_1-auc:0.81469\n",
      "[10000]\tvalidation_0-auc:0.84122\tvalidation_1-auc:0.81475\n",
      "[11000]\tvalidation_0-auc:0.84336\tvalidation_1-auc:0.81483\n",
      "[11459]\tvalidation_0-auc:0.84433\tvalidation_1-auc:0.81484\n",
      "Fold:1 score:0.8148\n"
     ]
    },
    {
     "name": "stderr",
     "output_type": "stream",
     "text": [
      "/opt/conda/lib/python3.7/site-packages/xgboost/sklearn.py:1146: UserWarning: The use of label encoder in XGBClassifier is deprecated and will be removed in a future release. To remove this warning, do the following: 1) Pass option use_label_encoder=False when constructing XGBClassifier object; and 2) Encode your labels (y) as integers starting with 0, i.e. 0, 1, 2, ..., [num_class - 1].\n",
      "  warnings.warn(label_encoder_deprecation_msg, UserWarning)\n"
     ]
    },
    {
     "name": "stdout",
     "output_type": "stream",
     "text": [
      "[0]\tvalidation_0-auc:0.79910\tvalidation_1-auc:0.80015\n",
      "[1000]\tvalidation_0-auc:0.81739\tvalidation_1-auc:0.81316\n",
      "[2000]\tvalidation_0-auc:0.82155\tvalidation_1-auc:0.81518\n",
      "[3000]\tvalidation_0-auc:0.82442\tvalidation_1-auc:0.81617\n",
      "[4000]\tvalidation_0-auc:0.82694\tvalidation_1-auc:0.81675\n",
      "[5000]\tvalidation_0-auc:0.82933\tvalidation_1-auc:0.81715\n",
      "[6000]\tvalidation_0-auc:0.83169\tvalidation_1-auc:0.81747\n",
      "[7000]\tvalidation_0-auc:0.83398\tvalidation_1-auc:0.81762\n",
      "[8000]\tvalidation_0-auc:0.83631\tvalidation_1-auc:0.81778\n",
      "[9000]\tvalidation_0-auc:0.83856\tvalidation_1-auc:0.81787\n",
      "[10000]\tvalidation_0-auc:0.84076\tvalidation_1-auc:0.81799\n",
      "[11000]\tvalidation_0-auc:0.84292\tvalidation_1-auc:0.81805\n",
      "[11256]\tvalidation_0-auc:0.84347\tvalidation_1-auc:0.81805\n",
      "Fold:2 score:0.8181\n"
     ]
    },
    {
     "name": "stderr",
     "output_type": "stream",
     "text": [
      "/opt/conda/lib/python3.7/site-packages/xgboost/sklearn.py:1146: UserWarning: The use of label encoder in XGBClassifier is deprecated and will be removed in a future release. To remove this warning, do the following: 1) Pass option use_label_encoder=False when constructing XGBClassifier object; and 2) Encode your labels (y) as integers starting with 0, i.e. 0, 1, 2, ..., [num_class - 1].\n",
      "  warnings.warn(label_encoder_deprecation_msg, UserWarning)\n"
     ]
    },
    {
     "name": "stdout",
     "output_type": "stream",
     "text": [
      "[0]\tvalidation_0-auc:0.79857\tvalidation_1-auc:0.79872\n",
      "[1000]\tvalidation_0-auc:0.81763\tvalidation_1-auc:0.81176\n",
      "[2000]\tvalidation_0-auc:0.82189\tvalidation_1-auc:0.81366\n",
      "[3000]\tvalidation_0-auc:0.82479\tvalidation_1-auc:0.81462\n",
      "[4000]\tvalidation_0-auc:0.82730\tvalidation_1-auc:0.81523\n",
      "[5000]\tvalidation_0-auc:0.82969\tvalidation_1-auc:0.81559\n",
      "[6000]\tvalidation_0-auc:0.83205\tvalidation_1-auc:0.81583\n",
      "[7000]\tvalidation_0-auc:0.83440\tvalidation_1-auc:0.81600\n",
      "[8000]\tvalidation_0-auc:0.83668\tvalidation_1-auc:0.81615\n",
      "[9000]\tvalidation_0-auc:0.83889\tvalidation_1-auc:0.81624\n",
      "[9579]\tvalidation_0-auc:0.84021\tvalidation_1-auc:0.81624\n",
      "Fold:3 score:0.8163\n"
     ]
    },
    {
     "name": "stderr",
     "output_type": "stream",
     "text": [
      "/opt/conda/lib/python3.7/site-packages/xgboost/sklearn.py:1146: UserWarning: The use of label encoder in XGBClassifier is deprecated and will be removed in a future release. To remove this warning, do the following: 1) Pass option use_label_encoder=False when constructing XGBClassifier object; and 2) Encode your labels (y) as integers starting with 0, i.e. 0, 1, 2, ..., [num_class - 1].\n",
      "  warnings.warn(label_encoder_deprecation_msg, UserWarning)\n"
     ]
    },
    {
     "name": "stdout",
     "output_type": "stream",
     "text": [
      "[0]\tvalidation_0-auc:0.79888\tvalidation_1-auc:0.79688\n",
      "[1000]\tvalidation_0-auc:0.81799\tvalidation_1-auc:0.80964\n",
      "[2000]\tvalidation_0-auc:0.82237\tvalidation_1-auc:0.81176\n",
      "[3000]\tvalidation_0-auc:0.82524\tvalidation_1-auc:0.81268\n",
      "[4000]\tvalidation_0-auc:0.82782\tvalidation_1-auc:0.81333\n",
      "[5000]\tvalidation_0-auc:0.83015\tvalidation_1-auc:0.81379\n",
      "[6000]\tvalidation_0-auc:0.83249\tvalidation_1-auc:0.81409\n",
      "[7000]\tvalidation_0-auc:0.83474\tvalidation_1-auc:0.81425\n",
      "[8000]\tvalidation_0-auc:0.83698\tvalidation_1-auc:0.81442\n",
      "[9000]\tvalidation_0-auc:0.83915\tvalidation_1-auc:0.81454\n",
      "[10000]\tvalidation_0-auc:0.84136\tvalidation_1-auc:0.81465\n",
      "[11000]\tvalidation_0-auc:0.84352\tvalidation_1-auc:0.81468\n",
      "[12000]\tvalidation_0-auc:0.84561\tvalidation_1-auc:0.81474\n",
      "[13000]\tvalidation_0-auc:0.84767\tvalidation_1-auc:0.81479\n",
      "[13082]\tvalidation_0-auc:0.84782\tvalidation_1-auc:0.81478\n",
      "Fold:4 score:0.8148\n"
     ]
    },
    {
     "name": "stderr",
     "output_type": "stream",
     "text": [
      "/opt/conda/lib/python3.7/site-packages/xgboost/sklearn.py:1146: UserWarning: The use of label encoder in XGBClassifier is deprecated and will be removed in a future release. To remove this warning, do the following: 1) Pass option use_label_encoder=False when constructing XGBClassifier object; and 2) Encode your labels (y) as integers starting with 0, i.e. 0, 1, 2, ..., [num_class - 1].\n",
      "  warnings.warn(label_encoder_deprecation_msg, UserWarning)\n"
     ]
    },
    {
     "name": "stdout",
     "output_type": "stream",
     "text": [
      "[0]\tvalidation_0-auc:0.79775\tvalidation_1-auc:0.79926\n",
      "[1000]\tvalidation_0-auc:0.81758\tvalidation_1-auc:0.81208\n",
      "[2000]\tvalidation_0-auc:0.82198\tvalidation_1-auc:0.81404\n",
      "[3000]\tvalidation_0-auc:0.82488\tvalidation_1-auc:0.81492\n",
      "[4000]\tvalidation_0-auc:0.82732\tvalidation_1-auc:0.81547\n",
      "[5000]\tvalidation_0-auc:0.82967\tvalidation_1-auc:0.81578\n",
      "[6000]\tvalidation_0-auc:0.83199\tvalidation_1-auc:0.81606\n",
      "[7000]\tvalidation_0-auc:0.83429\tvalidation_1-auc:0.81618\n",
      "[8000]\tvalidation_0-auc:0.83658\tvalidation_1-auc:0.81630\n",
      "[8559]\tvalidation_0-auc:0.83781\tvalidation_1-auc:0.81632\n",
      "Fold:5 score:0.8163\n",
      "Average score:0.8161 (0.0012)\n",
      "------------------------------\n",
      "Seed:44\n",
      "------------------------------\n"
     ]
    },
    {
     "name": "stderr",
     "output_type": "stream",
     "text": [
      "/opt/conda/lib/python3.7/site-packages/xgboost/sklearn.py:1146: UserWarning: The use of label encoder in XGBClassifier is deprecated and will be removed in a future release. To remove this warning, do the following: 1) Pass option use_label_encoder=False when constructing XGBClassifier object; and 2) Encode your labels (y) as integers starting with 0, i.e. 0, 1, 2, ..., [num_class - 1].\n",
      "  warnings.warn(label_encoder_deprecation_msg, UserWarning)\n"
     ]
    },
    {
     "name": "stdout",
     "output_type": "stream",
     "text": [
      "[0]\tvalidation_0-auc:0.79924\tvalidation_1-auc:0.79777\n",
      "[1000]\tvalidation_0-auc:0.81749\tvalidation_1-auc:0.81072\n",
      "[2000]\tvalidation_0-auc:0.82196\tvalidation_1-auc:0.81310\n",
      "[3000]\tvalidation_0-auc:0.82478\tvalidation_1-auc:0.81408\n",
      "[4000]\tvalidation_0-auc:0.82726\tvalidation_1-auc:0.81468\n",
      "[5000]\tvalidation_0-auc:0.82961\tvalidation_1-auc:0.81503\n",
      "[6000]\tvalidation_0-auc:0.83200\tvalidation_1-auc:0.81533\n",
      "[7000]\tvalidation_0-auc:0.83434\tvalidation_1-auc:0.81554\n",
      "[8000]\tvalidation_0-auc:0.83663\tvalidation_1-auc:0.81569\n",
      "[9000]\tvalidation_0-auc:0.83882\tvalidation_1-auc:0.81581\n",
      "[10000]\tvalidation_0-auc:0.84099\tvalidation_1-auc:0.81590\n",
      "[11000]\tvalidation_0-auc:0.84318\tvalidation_1-auc:0.81596\n",
      "[11637]\tvalidation_0-auc:0.84455\tvalidation_1-auc:0.81597\n",
      "Fold:1 score:0.8160\n"
     ]
    },
    {
     "name": "stderr",
     "output_type": "stream",
     "text": [
      "/opt/conda/lib/python3.7/site-packages/xgboost/sklearn.py:1146: UserWarning: The use of label encoder in XGBClassifier is deprecated and will be removed in a future release. To remove this warning, do the following: 1) Pass option use_label_encoder=False when constructing XGBClassifier object; and 2) Encode your labels (y) as integers starting with 0, i.e. 0, 1, 2, ..., [num_class - 1].\n",
      "  warnings.warn(label_encoder_deprecation_msg, UserWarning)\n"
     ]
    },
    {
     "name": "stdout",
     "output_type": "stream",
     "text": [
      "[0]\tvalidation_0-auc:0.79813\tvalidation_1-auc:0.79924\n",
      "[1000]\tvalidation_0-auc:0.81740\tvalidation_1-auc:0.81315\n",
      "[2000]\tvalidation_0-auc:0.82167\tvalidation_1-auc:0.81504\n",
      "[3000]\tvalidation_0-auc:0.82452\tvalidation_1-auc:0.81600\n",
      "[4000]\tvalidation_0-auc:0.82709\tvalidation_1-auc:0.81654\n",
      "[5000]\tvalidation_0-auc:0.82945\tvalidation_1-auc:0.81690\n",
      "[6000]\tvalidation_0-auc:0.83177\tvalidation_1-auc:0.81713\n",
      "[7000]\tvalidation_0-auc:0.83412\tvalidation_1-auc:0.81733\n",
      "[8000]\tvalidation_0-auc:0.83640\tvalidation_1-auc:0.81746\n",
      "[9000]\tvalidation_0-auc:0.83863\tvalidation_1-auc:0.81753\n",
      "[10000]\tvalidation_0-auc:0.84083\tvalidation_1-auc:0.81760\n",
      "[10981]\tvalidation_0-auc:0.84295\tvalidation_1-auc:0.81760\n",
      "Fold:2 score:0.8176\n"
     ]
    },
    {
     "name": "stderr",
     "output_type": "stream",
     "text": [
      "/opt/conda/lib/python3.7/site-packages/xgboost/sklearn.py:1146: UserWarning: The use of label encoder in XGBClassifier is deprecated and will be removed in a future release. To remove this warning, do the following: 1) Pass option use_label_encoder=False when constructing XGBClassifier object; and 2) Encode your labels (y) as integers starting with 0, i.e. 0, 1, 2, ..., [num_class - 1].\n",
      "  warnings.warn(label_encoder_deprecation_msg, UserWarning)\n"
     ]
    },
    {
     "name": "stdout",
     "output_type": "stream",
     "text": [
      "[0]\tvalidation_0-auc:0.79931\tvalidation_1-auc:0.79845\n",
      "[1000]\tvalidation_0-auc:0.81794\tvalidation_1-auc:0.81061\n",
      "[2000]\tvalidation_0-auc:0.82225\tvalidation_1-auc:0.81265\n",
      "[3000]\tvalidation_0-auc:0.82511\tvalidation_1-auc:0.81354\n",
      "[4000]\tvalidation_0-auc:0.82758\tvalidation_1-auc:0.81407\n",
      "[5000]\tvalidation_0-auc:0.83000\tvalidation_1-auc:0.81451\n",
      "[6000]\tvalidation_0-auc:0.83231\tvalidation_1-auc:0.81478\n",
      "[7000]\tvalidation_0-auc:0.83459\tvalidation_1-auc:0.81501\n",
      "[8000]\tvalidation_0-auc:0.83687\tvalidation_1-auc:0.81517\n",
      "[9000]\tvalidation_0-auc:0.83914\tvalidation_1-auc:0.81530\n",
      "[10000]\tvalidation_0-auc:0.84131\tvalidation_1-auc:0.81541\n",
      "[11000]\tvalidation_0-auc:0.84345\tvalidation_1-auc:0.81549\n",
      "[11324]\tvalidation_0-auc:0.84414\tvalidation_1-auc:0.81549\n",
      "Fold:3 score:0.8155\n"
     ]
    },
    {
     "name": "stderr",
     "output_type": "stream",
     "text": [
      "/opt/conda/lib/python3.7/site-packages/xgboost/sklearn.py:1146: UserWarning: The use of label encoder in XGBClassifier is deprecated and will be removed in a future release. To remove this warning, do the following: 1) Pass option use_label_encoder=False when constructing XGBClassifier object; and 2) Encode your labels (y) as integers starting with 0, i.e. 0, 1, 2, ..., [num_class - 1].\n",
      "  warnings.warn(label_encoder_deprecation_msg, UserWarning)\n"
     ]
    },
    {
     "name": "stdout",
     "output_type": "stream",
     "text": [
      "[0]\tvalidation_0-auc:0.79871\tvalidation_1-auc:0.79837\n",
      "[1000]\tvalidation_0-auc:0.81777\tvalidation_1-auc:0.81149\n",
      "[2000]\tvalidation_0-auc:0.82211\tvalidation_1-auc:0.81347\n",
      "[3000]\tvalidation_0-auc:0.82493\tvalidation_1-auc:0.81440\n",
      "[4000]\tvalidation_0-auc:0.82744\tvalidation_1-auc:0.81502\n",
      "[5000]\tvalidation_0-auc:0.82983\tvalidation_1-auc:0.81539\n",
      "[6000]\tvalidation_0-auc:0.83215\tvalidation_1-auc:0.81567\n",
      "[7000]\tvalidation_0-auc:0.83444\tvalidation_1-auc:0.81586\n",
      "[8000]\tvalidation_0-auc:0.83669\tvalidation_1-auc:0.81599\n",
      "[8876]\tvalidation_0-auc:0.83861\tvalidation_1-auc:0.81606\n",
      "Fold:4 score:0.8161\n"
     ]
    },
    {
     "name": "stderr",
     "output_type": "stream",
     "text": [
      "/opt/conda/lib/python3.7/site-packages/xgboost/sklearn.py:1146: UserWarning: The use of label encoder in XGBClassifier is deprecated and will be removed in a future release. To remove this warning, do the following: 1) Pass option use_label_encoder=False when constructing XGBClassifier object; and 2) Encode your labels (y) as integers starting with 0, i.e. 0, 1, 2, ..., [num_class - 1].\n",
      "  warnings.warn(label_encoder_deprecation_msg, UserWarning)\n"
     ]
    },
    {
     "name": "stdout",
     "output_type": "stream",
     "text": [
      "[0]\tvalidation_0-auc:0.79791\tvalidation_1-auc:0.79770\n",
      "[1000]\tvalidation_0-auc:0.81765\tvalidation_1-auc:0.81134\n",
      "[2000]\tvalidation_0-auc:0.82193\tvalidation_1-auc:0.81337\n",
      "[3000]\tvalidation_0-auc:0.82478\tvalidation_1-auc:0.81429\n",
      "[4000]\tvalidation_0-auc:0.82730\tvalidation_1-auc:0.81487\n",
      "[5000]\tvalidation_0-auc:0.82969\tvalidation_1-auc:0.81522\n",
      "[6000]\tvalidation_0-auc:0.83203\tvalidation_1-auc:0.81549\n",
      "[7000]\tvalidation_0-auc:0.83435\tvalidation_1-auc:0.81566\n",
      "[8000]\tvalidation_0-auc:0.83666\tvalidation_1-auc:0.81584\n",
      "[8397]\tvalidation_0-auc:0.83753\tvalidation_1-auc:0.81584\n",
      "Fold:5 score:0.8158\n",
      "Average score:0.8162 (0.0007)\n",
      "------------------------------\n",
      "Seed:45\n",
      "------------------------------\n"
     ]
    },
    {
     "name": "stderr",
     "output_type": "stream",
     "text": [
      "/opt/conda/lib/python3.7/site-packages/xgboost/sklearn.py:1146: UserWarning: The use of label encoder in XGBClassifier is deprecated and will be removed in a future release. To remove this warning, do the following: 1) Pass option use_label_encoder=False when constructing XGBClassifier object; and 2) Encode your labels (y) as integers starting with 0, i.e. 0, 1, 2, ..., [num_class - 1].\n",
      "  warnings.warn(label_encoder_deprecation_msg, UserWarning)\n"
     ]
    },
    {
     "name": "stdout",
     "output_type": "stream",
     "text": [
      "[0]\tvalidation_0-auc:0.79822\tvalidation_1-auc:0.79869\n",
      "[1000]\tvalidation_0-auc:0.81743\tvalidation_1-auc:0.81225\n",
      "[2000]\tvalidation_0-auc:0.82186\tvalidation_1-auc:0.81418\n",
      "[3000]\tvalidation_0-auc:0.82476\tvalidation_1-auc:0.81497\n",
      "[4000]\tvalidation_0-auc:0.82728\tvalidation_1-auc:0.81545\n",
      "[5000]\tvalidation_0-auc:0.82961\tvalidation_1-auc:0.81574\n",
      "[6000]\tvalidation_0-auc:0.83198\tvalidation_1-auc:0.81597\n",
      "[7000]\tvalidation_0-auc:0.83429\tvalidation_1-auc:0.81616\n",
      "[8000]\tvalidation_0-auc:0.83653\tvalidation_1-auc:0.81628\n",
      "[9000]\tvalidation_0-auc:0.83874\tvalidation_1-auc:0.81639\n",
      "[9629]\tvalidation_0-auc:0.84014\tvalidation_1-auc:0.81641\n",
      "Fold:1 score:0.8164\n"
     ]
    },
    {
     "name": "stderr",
     "output_type": "stream",
     "text": [
      "/opt/conda/lib/python3.7/site-packages/xgboost/sklearn.py:1146: UserWarning: The use of label encoder in XGBClassifier is deprecated and will be removed in a future release. To remove this warning, do the following: 1) Pass option use_label_encoder=False when constructing XGBClassifier object; and 2) Encode your labels (y) as integers starting with 0, i.e. 0, 1, 2, ..., [num_class - 1].\n",
      "  warnings.warn(label_encoder_deprecation_msg, UserWarning)\n"
     ]
    },
    {
     "name": "stdout",
     "output_type": "stream",
     "text": [
      "[0]\tvalidation_0-auc:0.79882\tvalidation_1-auc:0.79889\n",
      "[1000]\tvalidation_0-auc:0.81786\tvalidation_1-auc:0.81168\n",
      "[2000]\tvalidation_0-auc:0.82208\tvalidation_1-auc:0.81368\n",
      "[3000]\tvalidation_0-auc:0.82494\tvalidation_1-auc:0.81459\n",
      "[4000]\tvalidation_0-auc:0.82737\tvalidation_1-auc:0.81511\n",
      "[5000]\tvalidation_0-auc:0.82975\tvalidation_1-auc:0.81547\n",
      "[6000]\tvalidation_0-auc:0.83211\tvalidation_1-auc:0.81571\n",
      "[7000]\tvalidation_0-auc:0.83447\tvalidation_1-auc:0.81586\n",
      "[8000]\tvalidation_0-auc:0.83672\tvalidation_1-auc:0.81604\n",
      "[9000]\tvalidation_0-auc:0.83891\tvalidation_1-auc:0.81612\n",
      "[10000]\tvalidation_0-auc:0.84109\tvalidation_1-auc:0.81615\n",
      "[10524]\tvalidation_0-auc:0.84223\tvalidation_1-auc:0.81617\n",
      "Fold:2 score:0.8162\n"
     ]
    },
    {
     "name": "stderr",
     "output_type": "stream",
     "text": [
      "/opt/conda/lib/python3.7/site-packages/xgboost/sklearn.py:1146: UserWarning: The use of label encoder in XGBClassifier is deprecated and will be removed in a future release. To remove this warning, do the following: 1) Pass option use_label_encoder=False when constructing XGBClassifier object; and 2) Encode your labels (y) as integers starting with 0, i.e. 0, 1, 2, ..., [num_class - 1].\n",
      "  warnings.warn(label_encoder_deprecation_msg, UserWarning)\n"
     ]
    },
    {
     "name": "stdout",
     "output_type": "stream",
     "text": [
      "[0]\tvalidation_0-auc:0.79890\tvalidation_1-auc:0.79872\n",
      "[1000]\tvalidation_0-auc:0.81746\tvalidation_1-auc:0.81180\n",
      "[2000]\tvalidation_0-auc:0.82179\tvalidation_1-auc:0.81399\n",
      "[3000]\tvalidation_0-auc:0.82465\tvalidation_1-auc:0.81505\n",
      "[4000]\tvalidation_0-auc:0.82716\tvalidation_1-auc:0.81563\n",
      "[5000]\tvalidation_0-auc:0.82950\tvalidation_1-auc:0.81601\n",
      "[6000]\tvalidation_0-auc:0.83184\tvalidation_1-auc:0.81629\n",
      "[7000]\tvalidation_0-auc:0.83415\tvalidation_1-auc:0.81646\n",
      "[8000]\tvalidation_0-auc:0.83640\tvalidation_1-auc:0.81659\n",
      "[9000]\tvalidation_0-auc:0.83865\tvalidation_1-auc:0.81669\n",
      "[9451]\tvalidation_0-auc:0.83965\tvalidation_1-auc:0.81671\n",
      "Fold:3 score:0.8167\n"
     ]
    },
    {
     "name": "stderr",
     "output_type": "stream",
     "text": [
      "/opt/conda/lib/python3.7/site-packages/xgboost/sklearn.py:1146: UserWarning: The use of label encoder in XGBClassifier is deprecated and will be removed in a future release. To remove this warning, do the following: 1) Pass option use_label_encoder=False when constructing XGBClassifier object; and 2) Encode your labels (y) as integers starting with 0, i.e. 0, 1, 2, ..., [num_class - 1].\n",
      "  warnings.warn(label_encoder_deprecation_msg, UserWarning)\n"
     ]
    },
    {
     "name": "stdout",
     "output_type": "stream",
     "text": [
      "[0]\tvalidation_0-auc:0.79902\tvalidation_1-auc:0.79807\n",
      "[1000]\tvalidation_0-auc:0.81797\tvalidation_1-auc:0.81058\n",
      "[2000]\tvalidation_0-auc:0.82217\tvalidation_1-auc:0.81272\n",
      "[3000]\tvalidation_0-auc:0.82503\tvalidation_1-auc:0.81373\n",
      "[4000]\tvalidation_0-auc:0.82756\tvalidation_1-auc:0.81433\n",
      "[5000]\tvalidation_0-auc:0.82992\tvalidation_1-auc:0.81474\n",
      "[6000]\tvalidation_0-auc:0.83224\tvalidation_1-auc:0.81502\n",
      "[7000]\tvalidation_0-auc:0.83460\tvalidation_1-auc:0.81521\n",
      "[8000]\tvalidation_0-auc:0.83689\tvalidation_1-auc:0.81532\n",
      "[9000]\tvalidation_0-auc:0.83913\tvalidation_1-auc:0.81543\n",
      "[10000]\tvalidation_0-auc:0.84133\tvalidation_1-auc:0.81550\n",
      "[10226]\tvalidation_0-auc:0.84180\tvalidation_1-auc:0.81550\n",
      "Fold:4 score:0.8155\n"
     ]
    },
    {
     "name": "stderr",
     "output_type": "stream",
     "text": [
      "/opt/conda/lib/python3.7/site-packages/xgboost/sklearn.py:1146: UserWarning: The use of label encoder in XGBClassifier is deprecated and will be removed in a future release. To remove this warning, do the following: 1) Pass option use_label_encoder=False when constructing XGBClassifier object; and 2) Encode your labels (y) as integers starting with 0, i.e. 0, 1, 2, ..., [num_class - 1].\n",
      "  warnings.warn(label_encoder_deprecation_msg, UserWarning)\n"
     ]
    },
    {
     "name": "stdout",
     "output_type": "stream",
     "text": [
      "[0]\tvalidation_0-auc:0.79744\tvalidation_1-auc:0.79718\n",
      "[1000]\tvalidation_0-auc:0.81762\tvalidation_1-auc:0.81116\n",
      "[2000]\tvalidation_0-auc:0.82207\tvalidation_1-auc:0.81305\n",
      "[3000]\tvalidation_0-auc:0.82491\tvalidation_1-auc:0.81397\n",
      "[4000]\tvalidation_0-auc:0.82744\tvalidation_1-auc:0.81454\n",
      "[5000]\tvalidation_0-auc:0.82979\tvalidation_1-auc:0.81490\n",
      "[6000]\tvalidation_0-auc:0.83218\tvalidation_1-auc:0.81514\n",
      "[7000]\tvalidation_0-auc:0.83451\tvalidation_1-auc:0.81529\n",
      "[8000]\tvalidation_0-auc:0.83679\tvalidation_1-auc:0.81539\n",
      "[9000]\tvalidation_0-auc:0.83902\tvalidation_1-auc:0.81550\n",
      "[10000]\tvalidation_0-auc:0.84119\tvalidation_1-auc:0.81557\n",
      "[10950]\tvalidation_0-auc:0.84324\tvalidation_1-auc:0.81559\n",
      "Fold:5 score:0.8156\n",
      "Average score:0.8161 (0.0005)\n",
      "------------------------------\n",
      "Seed:46\n",
      "------------------------------\n"
     ]
    },
    {
     "name": "stderr",
     "output_type": "stream",
     "text": [
      "/opt/conda/lib/python3.7/site-packages/xgboost/sklearn.py:1146: UserWarning: The use of label encoder in XGBClassifier is deprecated and will be removed in a future release. To remove this warning, do the following: 1) Pass option use_label_encoder=False when constructing XGBClassifier object; and 2) Encode your labels (y) as integers starting with 0, i.e. 0, 1, 2, ..., [num_class - 1].\n",
      "  warnings.warn(label_encoder_deprecation_msg, UserWarning)\n"
     ]
    },
    {
     "name": "stdout",
     "output_type": "stream",
     "text": [
      "[0]\tvalidation_0-auc:0.79893\tvalidation_1-auc:0.80034\n",
      "[1000]\tvalidation_0-auc:0.81716\tvalidation_1-auc:0.81227\n",
      "[2000]\tvalidation_0-auc:0.82153\tvalidation_1-auc:0.81455\n",
      "[3000]\tvalidation_0-auc:0.82444\tvalidation_1-auc:0.81558\n",
      "[4000]\tvalidation_0-auc:0.82701\tvalidation_1-auc:0.81622\n",
      "[5000]\tvalidation_0-auc:0.82936\tvalidation_1-auc:0.81662\n",
      "[6000]\tvalidation_0-auc:0.83170\tvalidation_1-auc:0.81684\n",
      "[7000]\tvalidation_0-auc:0.83399\tvalidation_1-auc:0.81701\n",
      "[8000]\tvalidation_0-auc:0.83626\tvalidation_1-auc:0.81713\n",
      "[9000]\tvalidation_0-auc:0.83846\tvalidation_1-auc:0.81725\n",
      "[10000]\tvalidation_0-auc:0.84068\tvalidation_1-auc:0.81735\n",
      "[11000]\tvalidation_0-auc:0.84278\tvalidation_1-auc:0.81742\n",
      "[12000]\tvalidation_0-auc:0.84487\tvalidation_1-auc:0.81745\n",
      "[12009]\tvalidation_0-auc:0.84489\tvalidation_1-auc:0.81745\n",
      "Fold:1 score:0.8175\n"
     ]
    },
    {
     "name": "stderr",
     "output_type": "stream",
     "text": [
      "/opt/conda/lib/python3.7/site-packages/xgboost/sklearn.py:1146: UserWarning: The use of label encoder in XGBClassifier is deprecated and will be removed in a future release. To remove this warning, do the following: 1) Pass option use_label_encoder=False when constructing XGBClassifier object; and 2) Encode your labels (y) as integers starting with 0, i.e. 0, 1, 2, ..., [num_class - 1].\n",
      "  warnings.warn(label_encoder_deprecation_msg, UserWarning)\n"
     ]
    },
    {
     "name": "stdout",
     "output_type": "stream",
     "text": [
      "[0]\tvalidation_0-auc:0.79966\tvalidation_1-auc:0.79743\n",
      "[1000]\tvalidation_0-auc:0.81804\tvalidation_1-auc:0.81016\n",
      "[2000]\tvalidation_0-auc:0.82228\tvalidation_1-auc:0.81218\n",
      "[3000]\tvalidation_0-auc:0.82514\tvalidation_1-auc:0.81313\n",
      "[4000]\tvalidation_0-auc:0.82759\tvalidation_1-auc:0.81367\n",
      "[5000]\tvalidation_0-auc:0.82989\tvalidation_1-auc:0.81405\n",
      "[6000]\tvalidation_0-auc:0.83223\tvalidation_1-auc:0.81429\n",
      "[7000]\tvalidation_0-auc:0.83459\tvalidation_1-auc:0.81448\n",
      "[8000]\tvalidation_0-auc:0.83686\tvalidation_1-auc:0.81457\n",
      "[9000]\tvalidation_0-auc:0.83904\tvalidation_1-auc:0.81465\n",
      "[10000]\tvalidation_0-auc:0.84123\tvalidation_1-auc:0.81473\n",
      "[11000]\tvalidation_0-auc:0.84340\tvalidation_1-auc:0.81474\n",
      "[11957]\tvalidation_0-auc:0.84536\tvalidation_1-auc:0.81478\n",
      "Fold:2 score:0.8148\n"
     ]
    },
    {
     "name": "stderr",
     "output_type": "stream",
     "text": [
      "/opt/conda/lib/python3.7/site-packages/xgboost/sklearn.py:1146: UserWarning: The use of label encoder in XGBClassifier is deprecated and will be removed in a future release. To remove this warning, do the following: 1) Pass option use_label_encoder=False when constructing XGBClassifier object; and 2) Encode your labels (y) as integers starting with 0, i.e. 0, 1, 2, ..., [num_class - 1].\n",
      "  warnings.warn(label_encoder_deprecation_msg, UserWarning)\n"
     ]
    },
    {
     "name": "stdout",
     "output_type": "stream",
     "text": [
      "[0]\tvalidation_0-auc:0.79895\tvalidation_1-auc:0.79823\n",
      "[1000]\tvalidation_0-auc:0.81771\tvalidation_1-auc:0.81180\n",
      "[2000]\tvalidation_0-auc:0.82203\tvalidation_1-auc:0.81392\n",
      "[3000]\tvalidation_0-auc:0.82479\tvalidation_1-auc:0.81486\n",
      "[4000]\tvalidation_0-auc:0.82726\tvalidation_1-auc:0.81540\n",
      "[5000]\tvalidation_0-auc:0.82968\tvalidation_1-auc:0.81581\n",
      "[6000]\tvalidation_0-auc:0.83205\tvalidation_1-auc:0.81604\n",
      "[7000]\tvalidation_0-auc:0.83435\tvalidation_1-auc:0.81624\n",
      "[8000]\tvalidation_0-auc:0.83668\tvalidation_1-auc:0.81642\n",
      "[9000]\tvalidation_0-auc:0.83893\tvalidation_1-auc:0.81652\n",
      "[10000]\tvalidation_0-auc:0.84115\tvalidation_1-auc:0.81657\n",
      "[10141]\tvalidation_0-auc:0.84145\tvalidation_1-auc:0.81657\n",
      "Fold:3 score:0.8166\n"
     ]
    },
    {
     "name": "stderr",
     "output_type": "stream",
     "text": [
      "/opt/conda/lib/python3.7/site-packages/xgboost/sklearn.py:1146: UserWarning: The use of label encoder in XGBClassifier is deprecated and will be removed in a future release. To remove this warning, do the following: 1) Pass option use_label_encoder=False when constructing XGBClassifier object; and 2) Encode your labels (y) as integers starting with 0, i.e. 0, 1, 2, ..., [num_class - 1].\n",
      "  warnings.warn(label_encoder_deprecation_msg, UserWarning)\n"
     ]
    },
    {
     "name": "stdout",
     "output_type": "stream",
     "text": [
      "[0]\tvalidation_0-auc:0.79815\tvalidation_1-auc:0.79767\n",
      "[1000]\tvalidation_0-auc:0.81781\tvalidation_1-auc:0.81142\n",
      "[2000]\tvalidation_0-auc:0.82214\tvalidation_1-auc:0.81334\n",
      "[3000]\tvalidation_0-auc:0.82492\tvalidation_1-auc:0.81419\n",
      "[4000]\tvalidation_0-auc:0.82740\tvalidation_1-auc:0.81472\n",
      "[5000]\tvalidation_0-auc:0.82978\tvalidation_1-auc:0.81507\n",
      "[6000]\tvalidation_0-auc:0.83210\tvalidation_1-auc:0.81533\n",
      "[7000]\tvalidation_0-auc:0.83441\tvalidation_1-auc:0.81549\n",
      "[8000]\tvalidation_0-auc:0.83664\tvalidation_1-auc:0.81562\n",
      "[9000]\tvalidation_0-auc:0.83891\tvalidation_1-auc:0.81576\n",
      "[10000]\tvalidation_0-auc:0.84108\tvalidation_1-auc:0.81584\n",
      "[11000]\tvalidation_0-auc:0.84322\tvalidation_1-auc:0.81590\n",
      "[11919]\tvalidation_0-auc:0.84514\tvalidation_1-auc:0.81595\n",
      "Fold:4 score:0.8160\n"
     ]
    },
    {
     "name": "stderr",
     "output_type": "stream",
     "text": [
      "/opt/conda/lib/python3.7/site-packages/xgboost/sklearn.py:1146: UserWarning: The use of label encoder in XGBClassifier is deprecated and will be removed in a future release. To remove this warning, do the following: 1) Pass option use_label_encoder=False when constructing XGBClassifier object; and 2) Encode your labels (y) as integers starting with 0, i.e. 0, 1, 2, ..., [num_class - 1].\n",
      "  warnings.warn(label_encoder_deprecation_msg, UserWarning)\n"
     ]
    },
    {
     "name": "stdout",
     "output_type": "stream",
     "text": [
      "[0]\tvalidation_0-auc:0.79761\tvalidation_1-auc:0.79737\n",
      "[1000]\tvalidation_0-auc:0.81764\tvalidation_1-auc:0.81098\n",
      "[2000]\tvalidation_0-auc:0.82199\tvalidation_1-auc:0.81309\n",
      "[3000]\tvalidation_0-auc:0.82488\tvalidation_1-auc:0.81408\n",
      "[4000]\tvalidation_0-auc:0.82736\tvalidation_1-auc:0.81458\n",
      "[5000]\tvalidation_0-auc:0.82971\tvalidation_1-auc:0.81500\n",
      "[6000]\tvalidation_0-auc:0.83202\tvalidation_1-auc:0.81525\n",
      "[7000]\tvalidation_0-auc:0.83437\tvalidation_1-auc:0.81546\n",
      "[8000]\tvalidation_0-auc:0.83663\tvalidation_1-auc:0.81564\n",
      "[9000]\tvalidation_0-auc:0.83887\tvalidation_1-auc:0.81574\n",
      "[10000]\tvalidation_0-auc:0.84101\tvalidation_1-auc:0.81582\n",
      "[11000]\tvalidation_0-auc:0.84315\tvalidation_1-auc:0.81586\n",
      "[11050]\tvalidation_0-auc:0.84325\tvalidation_1-auc:0.81586\n",
      "Fold:5 score:0.8159\n",
      "Average score:0.8161 (0.0009)\n",
      "------------------------------\n",
      "Seed:47\n",
      "------------------------------\n"
     ]
    },
    {
     "name": "stderr",
     "output_type": "stream",
     "text": [
      "/opt/conda/lib/python3.7/site-packages/xgboost/sklearn.py:1146: UserWarning: The use of label encoder in XGBClassifier is deprecated and will be removed in a future release. To remove this warning, do the following: 1) Pass option use_label_encoder=False when constructing XGBClassifier object; and 2) Encode your labels (y) as integers starting with 0, i.e. 0, 1, 2, ..., [num_class - 1].\n",
      "  warnings.warn(label_encoder_deprecation_msg, UserWarning)\n"
     ]
    },
    {
     "name": "stdout",
     "output_type": "stream",
     "text": [
      "[0]\tvalidation_0-auc:0.79931\tvalidation_1-auc:0.79797\n",
      "[1000]\tvalidation_0-auc:0.81774\tvalidation_1-auc:0.81098\n",
      "[2000]\tvalidation_0-auc:0.82212\tvalidation_1-auc:0.81320\n",
      "[3000]\tvalidation_0-auc:0.82498\tvalidation_1-auc:0.81412\n",
      "[4000]\tvalidation_0-auc:0.82744\tvalidation_1-auc:0.81468\n",
      "[5000]\tvalidation_0-auc:0.82982\tvalidation_1-auc:0.81505\n",
      "[6000]\tvalidation_0-auc:0.83210\tvalidation_1-auc:0.81531\n",
      "[7000]\tvalidation_0-auc:0.83433\tvalidation_1-auc:0.81551\n",
      "[8000]\tvalidation_0-auc:0.83660\tvalidation_1-auc:0.81563\n",
      "[9000]\tvalidation_0-auc:0.83881\tvalidation_1-auc:0.81577\n",
      "[10000]\tvalidation_0-auc:0.84104\tvalidation_1-auc:0.81590\n",
      "[11000]\tvalidation_0-auc:0.84315\tvalidation_1-auc:0.81599\n",
      "[11844]\tvalidation_0-auc:0.84493\tvalidation_1-auc:0.81603\n",
      "Fold:1 score:0.8160\n"
     ]
    },
    {
     "name": "stderr",
     "output_type": "stream",
     "text": [
      "/opt/conda/lib/python3.7/site-packages/xgboost/sklearn.py:1146: UserWarning: The use of label encoder in XGBClassifier is deprecated and will be removed in a future release. To remove this warning, do the following: 1) Pass option use_label_encoder=False when constructing XGBClassifier object; and 2) Encode your labels (y) as integers starting with 0, i.e. 0, 1, 2, ..., [num_class - 1].\n",
      "  warnings.warn(label_encoder_deprecation_msg, UserWarning)\n"
     ]
    },
    {
     "name": "stdout",
     "output_type": "stream",
     "text": [
      "[0]\tvalidation_0-auc:0.79950\tvalidation_1-auc:0.79853\n",
      "[1000]\tvalidation_0-auc:0.81770\tvalidation_1-auc:0.81097\n",
      "[2000]\tvalidation_0-auc:0.82202\tvalidation_1-auc:0.81294\n",
      "[3000]\tvalidation_0-auc:0.82490\tvalidation_1-auc:0.81388\n",
      "[4000]\tvalidation_0-auc:0.82740\tvalidation_1-auc:0.81438\n",
      "[5000]\tvalidation_0-auc:0.82975\tvalidation_1-auc:0.81472\n",
      "[6000]\tvalidation_0-auc:0.83210\tvalidation_1-auc:0.81496\n",
      "[7000]\tvalidation_0-auc:0.83442\tvalidation_1-auc:0.81516\n",
      "[8000]\tvalidation_0-auc:0.83667\tvalidation_1-auc:0.81527\n",
      "[9000]\tvalidation_0-auc:0.83886\tvalidation_1-auc:0.81534\n",
      "[10000]\tvalidation_0-auc:0.84107\tvalidation_1-auc:0.81544\n",
      "[11000]\tvalidation_0-auc:0.84323\tvalidation_1-auc:0.81551\n",
      "[12000]\tvalidation_0-auc:0.84535\tvalidation_1-auc:0.81556\n",
      "[12303]\tvalidation_0-auc:0.84597\tvalidation_1-auc:0.81556\n",
      "Fold:2 score:0.8156\n"
     ]
    },
    {
     "name": "stderr",
     "output_type": "stream",
     "text": [
      "/opt/conda/lib/python3.7/site-packages/xgboost/sklearn.py:1146: UserWarning: The use of label encoder in XGBClassifier is deprecated and will be removed in a future release. To remove this warning, do the following: 1) Pass option use_label_encoder=False when constructing XGBClassifier object; and 2) Encode your labels (y) as integers starting with 0, i.e. 0, 1, 2, ..., [num_class - 1].\n",
      "  warnings.warn(label_encoder_deprecation_msg, UserWarning)\n"
     ]
    },
    {
     "name": "stdout",
     "output_type": "stream",
     "text": [
      "[0]\tvalidation_0-auc:0.79920\tvalidation_1-auc:0.79886\n",
      "[1000]\tvalidation_0-auc:0.81787\tvalidation_1-auc:0.81043\n",
      "[2000]\tvalidation_0-auc:0.82216\tvalidation_1-auc:0.81249\n",
      "[3000]\tvalidation_0-auc:0.82504\tvalidation_1-auc:0.81347\n",
      "[4000]\tvalidation_0-auc:0.82753\tvalidation_1-auc:0.81411\n",
      "[5000]\tvalidation_0-auc:0.82992\tvalidation_1-auc:0.81447\n",
      "[6000]\tvalidation_0-auc:0.83229\tvalidation_1-auc:0.81481\n",
      "[7000]\tvalidation_0-auc:0.83463\tvalidation_1-auc:0.81500\n",
      "[8000]\tvalidation_0-auc:0.83692\tvalidation_1-auc:0.81515\n",
      "[8798]\tvalidation_0-auc:0.83872\tvalidation_1-auc:0.81519\n",
      "Fold:3 score:0.8152\n"
     ]
    },
    {
     "name": "stderr",
     "output_type": "stream",
     "text": [
      "/opt/conda/lib/python3.7/site-packages/xgboost/sklearn.py:1146: UserWarning: The use of label encoder in XGBClassifier is deprecated and will be removed in a future release. To remove this warning, do the following: 1) Pass option use_label_encoder=False when constructing XGBClassifier object; and 2) Encode your labels (y) as integers starting with 0, i.e. 0, 1, 2, ..., [num_class - 1].\n",
      "  warnings.warn(label_encoder_deprecation_msg, UserWarning)\n"
     ]
    },
    {
     "name": "stdout",
     "output_type": "stream",
     "text": [
      "[0]\tvalidation_0-auc:0.79827\tvalidation_1-auc:0.79906\n",
      "[1000]\tvalidation_0-auc:0.81734\tvalidation_1-auc:0.81294\n",
      "[2000]\tvalidation_0-auc:0.82162\tvalidation_1-auc:0.81487\n",
      "[3000]\tvalidation_0-auc:0.82442\tvalidation_1-auc:0.81578\n",
      "[4000]\tvalidation_0-auc:0.82697\tvalidation_1-auc:0.81644\n",
      "[5000]\tvalidation_0-auc:0.82935\tvalidation_1-auc:0.81688\n",
      "[6000]\tvalidation_0-auc:0.83172\tvalidation_1-auc:0.81722\n",
      "[7000]\tvalidation_0-auc:0.83409\tvalidation_1-auc:0.81745\n",
      "[8000]\tvalidation_0-auc:0.83630\tvalidation_1-auc:0.81755\n",
      "[9000]\tvalidation_0-auc:0.83854\tvalidation_1-auc:0.81765\n",
      "[10000]\tvalidation_0-auc:0.84077\tvalidation_1-auc:0.81771\n",
      "[10390]\tvalidation_0-auc:0.84162\tvalidation_1-auc:0.81770\n",
      "Fold:4 score:0.8177\n"
     ]
    },
    {
     "name": "stderr",
     "output_type": "stream",
     "text": [
      "/opt/conda/lib/python3.7/site-packages/xgboost/sklearn.py:1146: UserWarning: The use of label encoder in XGBClassifier is deprecated and will be removed in a future release. To remove this warning, do the following: 1) Pass option use_label_encoder=False when constructing XGBClassifier object; and 2) Encode your labels (y) as integers starting with 0, i.e. 0, 1, 2, ..., [num_class - 1].\n",
      "  warnings.warn(label_encoder_deprecation_msg, UserWarning)\n"
     ]
    },
    {
     "name": "stdout",
     "output_type": "stream",
     "text": [
      "[0]\tvalidation_0-auc:0.79746\tvalidation_1-auc:0.79734\n",
      "[1000]\tvalidation_0-auc:0.81755\tvalidation_1-auc:0.81156\n",
      "[2000]\tvalidation_0-auc:0.82190\tvalidation_1-auc:0.81354\n",
      "[3000]\tvalidation_0-auc:0.82475\tvalidation_1-auc:0.81447\n",
      "[4000]\tvalidation_0-auc:0.82720\tvalidation_1-auc:0.81504\n",
      "[5000]\tvalidation_0-auc:0.82960\tvalidation_1-auc:0.81537\n",
      "[6000]\tvalidation_0-auc:0.83195\tvalidation_1-auc:0.81561\n",
      "[7000]\tvalidation_0-auc:0.83429\tvalidation_1-auc:0.81579\n",
      "[8000]\tvalidation_0-auc:0.83657\tvalidation_1-auc:0.81590\n",
      "[9000]\tvalidation_0-auc:0.83882\tvalidation_1-auc:0.81600\n",
      "[10000]\tvalidation_0-auc:0.84104\tvalidation_1-auc:0.81602\n",
      "[10533]\tvalidation_0-auc:0.84223\tvalidation_1-auc:0.81603\n",
      "Fold:5 score:0.8160\n",
      "Average score:0.8161 (0.0009)\n",
      "------------------------------\n",
      "Seed:48\n",
      "------------------------------\n"
     ]
    },
    {
     "name": "stderr",
     "output_type": "stream",
     "text": [
      "/opt/conda/lib/python3.7/site-packages/xgboost/sklearn.py:1146: UserWarning: The use of label encoder in XGBClassifier is deprecated and will be removed in a future release. To remove this warning, do the following: 1) Pass option use_label_encoder=False when constructing XGBClassifier object; and 2) Encode your labels (y) as integers starting with 0, i.e. 0, 1, 2, ..., [num_class - 1].\n",
      "  warnings.warn(label_encoder_deprecation_msg, UserWarning)\n"
     ]
    },
    {
     "name": "stdout",
     "output_type": "stream",
     "text": [
      "[0]\tvalidation_0-auc:0.79891\tvalidation_1-auc:0.79947\n",
      "[1000]\tvalidation_0-auc:0.81738\tvalidation_1-auc:0.81210\n",
      "[2000]\tvalidation_0-auc:0.82175\tvalidation_1-auc:0.81421\n",
      "[3000]\tvalidation_0-auc:0.82468\tvalidation_1-auc:0.81526\n",
      "[4000]\tvalidation_0-auc:0.82709\tvalidation_1-auc:0.81586\n",
      "[5000]\tvalidation_0-auc:0.82949\tvalidation_1-auc:0.81630\n",
      "[6000]\tvalidation_0-auc:0.83184\tvalidation_1-auc:0.81663\n",
      "[7000]\tvalidation_0-auc:0.83413\tvalidation_1-auc:0.81683\n",
      "[8000]\tvalidation_0-auc:0.83644\tvalidation_1-auc:0.81699\n",
      "[9000]\tvalidation_0-auc:0.83868\tvalidation_1-auc:0.81708\n",
      "[10000]\tvalidation_0-auc:0.84091\tvalidation_1-auc:0.81718\n",
      "[11000]\tvalidation_0-auc:0.84306\tvalidation_1-auc:0.81726\n",
      "[12000]\tvalidation_0-auc:0.84513\tvalidation_1-auc:0.81730\n",
      "[12448]\tvalidation_0-auc:0.84607\tvalidation_1-auc:0.81731\n",
      "Fold:1 score:0.8173\n"
     ]
    },
    {
     "name": "stderr",
     "output_type": "stream",
     "text": [
      "/opt/conda/lib/python3.7/site-packages/xgboost/sklearn.py:1146: UserWarning: The use of label encoder in XGBClassifier is deprecated and will be removed in a future release. To remove this warning, do the following: 1) Pass option use_label_encoder=False when constructing XGBClassifier object; and 2) Encode your labels (y) as integers starting with 0, i.e. 0, 1, 2, ..., [num_class - 1].\n",
      "  warnings.warn(label_encoder_deprecation_msg, UserWarning)\n"
     ]
    },
    {
     "name": "stdout",
     "output_type": "stream",
     "text": [
      "[0]\tvalidation_0-auc:0.79925\tvalidation_1-auc:0.80019\n",
      "[1000]\tvalidation_0-auc:0.81757\tvalidation_1-auc:0.81198\n",
      "[2000]\tvalidation_0-auc:0.82177\tvalidation_1-auc:0.81395\n",
      "[3000]\tvalidation_0-auc:0.82463\tvalidation_1-auc:0.81490\n",
      "[4000]\tvalidation_0-auc:0.82706\tvalidation_1-auc:0.81540\n",
      "[5000]\tvalidation_0-auc:0.82947\tvalidation_1-auc:0.81585\n",
      "[6000]\tvalidation_0-auc:0.83181\tvalidation_1-auc:0.81612\n",
      "[7000]\tvalidation_0-auc:0.83408\tvalidation_1-auc:0.81632\n",
      "[8000]\tvalidation_0-auc:0.83634\tvalidation_1-auc:0.81643\n",
      "[9000]\tvalidation_0-auc:0.83856\tvalidation_1-auc:0.81653\n",
      "[10000]\tvalidation_0-auc:0.84074\tvalidation_1-auc:0.81658\n",
      "[11000]\tvalidation_0-auc:0.84286\tvalidation_1-auc:0.81665\n",
      "[12000]\tvalidation_0-auc:0.84498\tvalidation_1-auc:0.81667\n",
      "[12098]\tvalidation_0-auc:0.84518\tvalidation_1-auc:0.81667\n",
      "Fold:2 score:0.8167\n"
     ]
    },
    {
     "name": "stderr",
     "output_type": "stream",
     "text": [
      "/opt/conda/lib/python3.7/site-packages/xgboost/sklearn.py:1146: UserWarning: The use of label encoder in XGBClassifier is deprecated and will be removed in a future release. To remove this warning, do the following: 1) Pass option use_label_encoder=False when constructing XGBClassifier object; and 2) Encode your labels (y) as integers starting with 0, i.e. 0, 1, 2, ..., [num_class - 1].\n",
      "  warnings.warn(label_encoder_deprecation_msg, UserWarning)\n"
     ]
    },
    {
     "name": "stdout",
     "output_type": "stream",
     "text": [
      "[0]\tvalidation_0-auc:0.79928\tvalidation_1-auc:0.79821\n",
      "[1000]\tvalidation_0-auc:0.81777\tvalidation_1-auc:0.81100\n",
      "[2000]\tvalidation_0-auc:0.82204\tvalidation_1-auc:0.81290\n",
      "[3000]\tvalidation_0-auc:0.82486\tvalidation_1-auc:0.81386\n",
      "[4000]\tvalidation_0-auc:0.82735\tvalidation_1-auc:0.81447\n",
      "[5000]\tvalidation_0-auc:0.82975\tvalidation_1-auc:0.81483\n",
      "[6000]\tvalidation_0-auc:0.83205\tvalidation_1-auc:0.81510\n",
      "[7000]\tvalidation_0-auc:0.83437\tvalidation_1-auc:0.81535\n",
      "[8000]\tvalidation_0-auc:0.83660\tvalidation_1-auc:0.81546\n",
      "[9000]\tvalidation_0-auc:0.83887\tvalidation_1-auc:0.81556\n",
      "[10000]\tvalidation_0-auc:0.84109\tvalidation_1-auc:0.81567\n",
      "[11000]\tvalidation_0-auc:0.84323\tvalidation_1-auc:0.81573\n",
      "[12000]\tvalidation_0-auc:0.84535\tvalidation_1-auc:0.81578\n",
      "[12852]\tvalidation_0-auc:0.84712\tvalidation_1-auc:0.81582\n",
      "Fold:3 score:0.8158\n"
     ]
    },
    {
     "name": "stderr",
     "output_type": "stream",
     "text": [
      "/opt/conda/lib/python3.7/site-packages/xgboost/sklearn.py:1146: UserWarning: The use of label encoder in XGBClassifier is deprecated and will be removed in a future release. To remove this warning, do the following: 1) Pass option use_label_encoder=False when constructing XGBClassifier object; and 2) Encode your labels (y) as integers starting with 0, i.e. 0, 1, 2, ..., [num_class - 1].\n",
      "  warnings.warn(label_encoder_deprecation_msg, UserWarning)\n"
     ]
    },
    {
     "name": "stdout",
     "output_type": "stream",
     "text": [
      "[0]\tvalidation_0-auc:0.79847\tvalidation_1-auc:0.79825\n",
      "[1000]\tvalidation_0-auc:0.81778\tvalidation_1-auc:0.81139\n",
      "[2000]\tvalidation_0-auc:0.82210\tvalidation_1-auc:0.81332\n",
      "[3000]\tvalidation_0-auc:0.82498\tvalidation_1-auc:0.81420\n",
      "[4000]\tvalidation_0-auc:0.82748\tvalidation_1-auc:0.81478\n",
      "[5000]\tvalidation_0-auc:0.82982\tvalidation_1-auc:0.81512\n",
      "[6000]\tvalidation_0-auc:0.83212\tvalidation_1-auc:0.81536\n",
      "[7000]\tvalidation_0-auc:0.83445\tvalidation_1-auc:0.81546\n",
      "[8000]\tvalidation_0-auc:0.83672\tvalidation_1-auc:0.81556\n",
      "[9000]\tvalidation_0-auc:0.83901\tvalidation_1-auc:0.81565\n",
      "[10000]\tvalidation_0-auc:0.84120\tvalidation_1-auc:0.81570\n",
      "[10123]\tvalidation_0-auc:0.84147\tvalidation_1-auc:0.81571\n",
      "Fold:4 score:0.8157\n"
     ]
    },
    {
     "name": "stderr",
     "output_type": "stream",
     "text": [
      "/opt/conda/lib/python3.7/site-packages/xgboost/sklearn.py:1146: UserWarning: The use of label encoder in XGBClassifier is deprecated and will be removed in a future release. To remove this warning, do the following: 1) Pass option use_label_encoder=False when constructing XGBClassifier object; and 2) Encode your labels (y) as integers starting with 0, i.e. 0, 1, 2, ..., [num_class - 1].\n",
      "  warnings.warn(label_encoder_deprecation_msg, UserWarning)\n"
     ]
    },
    {
     "name": "stdout",
     "output_type": "stream",
     "text": [
      "[0]\tvalidation_0-auc:0.79764\tvalidation_1-auc:0.79663\n",
      "[1000]\tvalidation_0-auc:0.81792\tvalidation_1-auc:0.81043\n",
      "[2000]\tvalidation_0-auc:0.82229\tvalidation_1-auc:0.81263\n",
      "[3000]\tvalidation_0-auc:0.82515\tvalidation_1-auc:0.81364\n",
      "[4000]\tvalidation_0-auc:0.82763\tvalidation_1-auc:0.81423\n",
      "[5000]\tvalidation_0-auc:0.83001\tvalidation_1-auc:0.81460\n",
      "[6000]\tvalidation_0-auc:0.83232\tvalidation_1-auc:0.81484\n",
      "[7000]\tvalidation_0-auc:0.83465\tvalidation_1-auc:0.81505\n",
      "[8000]\tvalidation_0-auc:0.83690\tvalidation_1-auc:0.81516\n",
      "[9000]\tvalidation_0-auc:0.83915\tvalidation_1-auc:0.81524\n",
      "[9149]\tvalidation_0-auc:0.83949\tvalidation_1-auc:0.81525\n",
      "Fold:5 score:0.8153\n",
      "Average score:0.8162 (0.0007)\n",
      "------------------------------\n",
      "Seed:49\n",
      "------------------------------\n"
     ]
    },
    {
     "name": "stderr",
     "output_type": "stream",
     "text": [
      "/opt/conda/lib/python3.7/site-packages/xgboost/sklearn.py:1146: UserWarning: The use of label encoder in XGBClassifier is deprecated and will be removed in a future release. To remove this warning, do the following: 1) Pass option use_label_encoder=False when constructing XGBClassifier object; and 2) Encode your labels (y) as integers starting with 0, i.e. 0, 1, 2, ..., [num_class - 1].\n",
      "  warnings.warn(label_encoder_deprecation_msg, UserWarning)\n"
     ]
    },
    {
     "name": "stdout",
     "output_type": "stream",
     "text": [
      "[0]\tvalidation_0-auc:0.79863\tvalidation_1-auc:0.79781\n",
      "[1000]\tvalidation_0-auc:0.81750\tvalidation_1-auc:0.81104\n",
      "[2000]\tvalidation_0-auc:0.82190\tvalidation_1-auc:0.81316\n",
      "[3000]\tvalidation_0-auc:0.82479\tvalidation_1-auc:0.81412\n",
      "[4000]\tvalidation_0-auc:0.82725\tvalidation_1-auc:0.81471\n",
      "[5000]\tvalidation_0-auc:0.82962\tvalidation_1-auc:0.81512\n",
      "[6000]\tvalidation_0-auc:0.83193\tvalidation_1-auc:0.81544\n",
      "[7000]\tvalidation_0-auc:0.83424\tvalidation_1-auc:0.81564\n",
      "[8000]\tvalidation_0-auc:0.83648\tvalidation_1-auc:0.81582\n",
      "[9000]\tvalidation_0-auc:0.83871\tvalidation_1-auc:0.81595\n",
      "[10000]\tvalidation_0-auc:0.84092\tvalidation_1-auc:0.81605\n",
      "[11000]\tvalidation_0-auc:0.84308\tvalidation_1-auc:0.81611\n",
      "[11926]\tvalidation_0-auc:0.84504\tvalidation_1-auc:0.81612\n",
      "Fold:1 score:0.8161\n"
     ]
    },
    {
     "name": "stderr",
     "output_type": "stream",
     "text": [
      "/opt/conda/lib/python3.7/site-packages/xgboost/sklearn.py:1146: UserWarning: The use of label encoder in XGBClassifier is deprecated and will be removed in a future release. To remove this warning, do the following: 1) Pass option use_label_encoder=False when constructing XGBClassifier object; and 2) Encode your labels (y) as integers starting with 0, i.e. 0, 1, 2, ..., [num_class - 1].\n",
      "  warnings.warn(label_encoder_deprecation_msg, UserWarning)\n"
     ]
    },
    {
     "name": "stdout",
     "output_type": "stream",
     "text": [
      "[0]\tvalidation_0-auc:0.79904\tvalidation_1-auc:0.79923\n",
      "[1000]\tvalidation_0-auc:0.81752\tvalidation_1-auc:0.81210\n",
      "[2000]\tvalidation_0-auc:0.82187\tvalidation_1-auc:0.81413\n",
      "[3000]\tvalidation_0-auc:0.82473\tvalidation_1-auc:0.81510\n",
      "[4000]\tvalidation_0-auc:0.82724\tvalidation_1-auc:0.81562\n",
      "[5000]\tvalidation_0-auc:0.82963\tvalidation_1-auc:0.81599\n",
      "[6000]\tvalidation_0-auc:0.83198\tvalidation_1-auc:0.81625\n",
      "[7000]\tvalidation_0-auc:0.83425\tvalidation_1-auc:0.81644\n",
      "[8000]\tvalidation_0-auc:0.83652\tvalidation_1-auc:0.81657\n",
      "[9000]\tvalidation_0-auc:0.83869\tvalidation_1-auc:0.81666\n",
      "[9739]\tvalidation_0-auc:0.84031\tvalidation_1-auc:0.81671\n",
      "Fold:2 score:0.8167\n"
     ]
    },
    {
     "name": "stderr",
     "output_type": "stream",
     "text": [
      "/opt/conda/lib/python3.7/site-packages/xgboost/sklearn.py:1146: UserWarning: The use of label encoder in XGBClassifier is deprecated and will be removed in a future release. To remove this warning, do the following: 1) Pass option use_label_encoder=False when constructing XGBClassifier object; and 2) Encode your labels (y) as integers starting with 0, i.e. 0, 1, 2, ..., [num_class - 1].\n",
      "  warnings.warn(label_encoder_deprecation_msg, UserWarning)\n"
     ]
    },
    {
     "name": "stdout",
     "output_type": "stream",
     "text": [
      "[0]\tvalidation_0-auc:0.79852\tvalidation_1-auc:0.79699\n",
      "[1000]\tvalidation_0-auc:0.81784\tvalidation_1-auc:0.81010\n",
      "[2000]\tvalidation_0-auc:0.82221\tvalidation_1-auc:0.81234\n",
      "[3000]\tvalidation_0-auc:0.82511\tvalidation_1-auc:0.81333\n",
      "[4000]\tvalidation_0-auc:0.82761\tvalidation_1-auc:0.81398\n",
      "[5000]\tvalidation_0-auc:0.83002\tvalidation_1-auc:0.81442\n",
      "[6000]\tvalidation_0-auc:0.83232\tvalidation_1-auc:0.81472\n",
      "[7000]\tvalidation_0-auc:0.83466\tvalidation_1-auc:0.81491\n",
      "[8000]\tvalidation_0-auc:0.83695\tvalidation_1-auc:0.81504\n",
      "[8739]\tvalidation_0-auc:0.83860\tvalidation_1-auc:0.81508\n",
      "Fold:3 score:0.8151\n"
     ]
    },
    {
     "name": "stderr",
     "output_type": "stream",
     "text": [
      "/opt/conda/lib/python3.7/site-packages/xgboost/sklearn.py:1146: UserWarning: The use of label encoder in XGBClassifier is deprecated and will be removed in a future release. To remove this warning, do the following: 1) Pass option use_label_encoder=False when constructing XGBClassifier object; and 2) Encode your labels (y) as integers starting with 0, i.e. 0, 1, 2, ..., [num_class - 1].\n",
      "  warnings.warn(label_encoder_deprecation_msg, UserWarning)\n"
     ]
    },
    {
     "name": "stdout",
     "output_type": "stream",
     "text": [
      "[0]\tvalidation_0-auc:0.79816\tvalidation_1-auc:0.79843\n",
      "[1000]\tvalidation_0-auc:0.81768\tvalidation_1-auc:0.81205\n",
      "[2000]\tvalidation_0-auc:0.82193\tvalidation_1-auc:0.81387\n",
      "[3000]\tvalidation_0-auc:0.82474\tvalidation_1-auc:0.81476\n",
      "[4000]\tvalidation_0-auc:0.82713\tvalidation_1-auc:0.81524\n",
      "[5000]\tvalidation_0-auc:0.82953\tvalidation_1-auc:0.81568\n",
      "[6000]\tvalidation_0-auc:0.83193\tvalidation_1-auc:0.81598\n",
      "[7000]\tvalidation_0-auc:0.83423\tvalidation_1-auc:0.81616\n",
      "[8000]\tvalidation_0-auc:0.83650\tvalidation_1-auc:0.81632\n",
      "[9000]\tvalidation_0-auc:0.83878\tvalidation_1-auc:0.81639\n",
      "[10000]\tvalidation_0-auc:0.84098\tvalidation_1-auc:0.81644\n",
      "[10762]\tvalidation_0-auc:0.84263\tvalidation_1-auc:0.81646\n",
      "Fold:4 score:0.8165\n"
     ]
    },
    {
     "name": "stderr",
     "output_type": "stream",
     "text": [
      "/opt/conda/lib/python3.7/site-packages/xgboost/sklearn.py:1146: UserWarning: The use of label encoder in XGBClassifier is deprecated and will be removed in a future release. To remove this warning, do the following: 1) Pass option use_label_encoder=False when constructing XGBClassifier object; and 2) Encode your labels (y) as integers starting with 0, i.e. 0, 1, 2, ..., [num_class - 1].\n",
      "  warnings.warn(label_encoder_deprecation_msg, UserWarning)\n"
     ]
    },
    {
     "name": "stdout",
     "output_type": "stream",
     "text": [
      "[0]\tvalidation_0-auc:0.79812\tvalidation_1-auc:0.79844\n",
      "[1000]\tvalidation_0-auc:0.81761\tvalidation_1-auc:0.81130\n",
      "[2000]\tvalidation_0-auc:0.82189\tvalidation_1-auc:0.81340\n",
      "[3000]\tvalidation_0-auc:0.82477\tvalidation_1-auc:0.81430\n",
      "[4000]\tvalidation_0-auc:0.82730\tvalidation_1-auc:0.81491\n",
      "[5000]\tvalidation_0-auc:0.82970\tvalidation_1-auc:0.81527\n",
      "[6000]\tvalidation_0-auc:0.83204\tvalidation_1-auc:0.81552\n",
      "[7000]\tvalidation_0-auc:0.83435\tvalidation_1-auc:0.81569\n",
      "[8000]\tvalidation_0-auc:0.83662\tvalidation_1-auc:0.81578\n",
      "[9000]\tvalidation_0-auc:0.83887\tvalidation_1-auc:0.81588\n",
      "[9548]\tvalidation_0-auc:0.84008\tvalidation_1-auc:0.81590\n",
      "Fold:5 score:0.8159\n",
      "Average score:0.8161 (0.0006)\n",
      "------------------------------\n",
      "Seed:50\n",
      "------------------------------\n"
     ]
    },
    {
     "name": "stderr",
     "output_type": "stream",
     "text": [
      "/opt/conda/lib/python3.7/site-packages/xgboost/sklearn.py:1146: UserWarning: The use of label encoder in XGBClassifier is deprecated and will be removed in a future release. To remove this warning, do the following: 1) Pass option use_label_encoder=False when constructing XGBClassifier object; and 2) Encode your labels (y) as integers starting with 0, i.e. 0, 1, 2, ..., [num_class - 1].\n",
      "  warnings.warn(label_encoder_deprecation_msg, UserWarning)\n"
     ]
    },
    {
     "name": "stdout",
     "output_type": "stream",
     "text": [
      "[0]\tvalidation_0-auc:0.79883\tvalidation_1-auc:0.79791\n",
      "[1000]\tvalidation_0-auc:0.81755\tvalidation_1-auc:0.81191\n",
      "[2000]\tvalidation_0-auc:0.82189\tvalidation_1-auc:0.81383\n",
      "[3000]\tvalidation_0-auc:0.82472\tvalidation_1-auc:0.81478\n",
      "[4000]\tvalidation_0-auc:0.82724\tvalidation_1-auc:0.81539\n",
      "[5000]\tvalidation_0-auc:0.82965\tvalidation_1-auc:0.81581\n",
      "[6000]\tvalidation_0-auc:0.83204\tvalidation_1-auc:0.81607\n",
      "[7000]\tvalidation_0-auc:0.83437\tvalidation_1-auc:0.81627\n",
      "[8000]\tvalidation_0-auc:0.83668\tvalidation_1-auc:0.81638\n",
      "[8626]\tvalidation_0-auc:0.83806\tvalidation_1-auc:0.81644\n",
      "Fold:1 score:0.8164\n"
     ]
    },
    {
     "name": "stderr",
     "output_type": "stream",
     "text": [
      "/opt/conda/lib/python3.7/site-packages/xgboost/sklearn.py:1146: UserWarning: The use of label encoder in XGBClassifier is deprecated and will be removed in a future release. To remove this warning, do the following: 1) Pass option use_label_encoder=False when constructing XGBClassifier object; and 2) Encode your labels (y) as integers starting with 0, i.e. 0, 1, 2, ..., [num_class - 1].\n",
      "  warnings.warn(label_encoder_deprecation_msg, UserWarning)\n"
     ]
    },
    {
     "name": "stdout",
     "output_type": "stream",
     "text": [
      "[0]\tvalidation_0-auc:0.79831\tvalidation_1-auc:0.80138\n",
      "[1000]\tvalidation_0-auc:0.81710\tvalidation_1-auc:0.81330\n",
      "[2000]\tvalidation_0-auc:0.82148\tvalidation_1-auc:0.81529\n",
      "[3000]\tvalidation_0-auc:0.82435\tvalidation_1-auc:0.81631\n",
      "[4000]\tvalidation_0-auc:0.82683\tvalidation_1-auc:0.81692\n",
      "[5000]\tvalidation_0-auc:0.82922\tvalidation_1-auc:0.81729\n",
      "[6000]\tvalidation_0-auc:0.83151\tvalidation_1-auc:0.81754\n",
      "[7000]\tvalidation_0-auc:0.83382\tvalidation_1-auc:0.81772\n",
      "[8000]\tvalidation_0-auc:0.83608\tvalidation_1-auc:0.81783\n",
      "[9000]\tvalidation_0-auc:0.83829\tvalidation_1-auc:0.81792\n",
      "[10000]\tvalidation_0-auc:0.84049\tvalidation_1-auc:0.81798\n",
      "[11000]\tvalidation_0-auc:0.84263\tvalidation_1-auc:0.81805\n",
      "[12000]\tvalidation_0-auc:0.84467\tvalidation_1-auc:0.81808\n",
      "[13000]\tvalidation_0-auc:0.84673\tvalidation_1-auc:0.81812\n",
      "[13388]\tvalidation_0-auc:0.84752\tvalidation_1-auc:0.81811\n",
      "Fold:2 score:0.8181\n"
     ]
    },
    {
     "name": "stderr",
     "output_type": "stream",
     "text": [
      "/opt/conda/lib/python3.7/site-packages/xgboost/sklearn.py:1146: UserWarning: The use of label encoder in XGBClassifier is deprecated and will be removed in a future release. To remove this warning, do the following: 1) Pass option use_label_encoder=False when constructing XGBClassifier object; and 2) Encode your labels (y) as integers starting with 0, i.e. 0, 1, 2, ..., [num_class - 1].\n",
      "  warnings.warn(label_encoder_deprecation_msg, UserWarning)\n"
     ]
    },
    {
     "name": "stdout",
     "output_type": "stream",
     "text": [
      "[0]\tvalidation_0-auc:0.79919\tvalidation_1-auc:0.79784\n",
      "[1000]\tvalidation_0-auc:0.81795\tvalidation_1-auc:0.81021\n",
      "[2000]\tvalidation_0-auc:0.82221\tvalidation_1-auc:0.81246\n",
      "[3000]\tvalidation_0-auc:0.82509\tvalidation_1-auc:0.81343\n",
      "[4000]\tvalidation_0-auc:0.82761\tvalidation_1-auc:0.81401\n",
      "[5000]\tvalidation_0-auc:0.83000\tvalidation_1-auc:0.81439\n",
      "[6000]\tvalidation_0-auc:0.83236\tvalidation_1-auc:0.81461\n",
      "[7000]\tvalidation_0-auc:0.83467\tvalidation_1-auc:0.81476\n",
      "[8000]\tvalidation_0-auc:0.83696\tvalidation_1-auc:0.81493\n",
      "[9000]\tvalidation_0-auc:0.83920\tvalidation_1-auc:0.81503\n",
      "[10000]\tvalidation_0-auc:0.84139\tvalidation_1-auc:0.81507\n",
      "[10249]\tvalidation_0-auc:0.84190\tvalidation_1-auc:0.81508\n",
      "Fold:3 score:0.8151\n"
     ]
    },
    {
     "name": "stderr",
     "output_type": "stream",
     "text": [
      "/opt/conda/lib/python3.7/site-packages/xgboost/sklearn.py:1146: UserWarning: The use of label encoder in XGBClassifier is deprecated and will be removed in a future release. To remove this warning, do the following: 1) Pass option use_label_encoder=False when constructing XGBClassifier object; and 2) Encode your labels (y) as integers starting with 0, i.e. 0, 1, 2, ..., [num_class - 1].\n",
      "  warnings.warn(label_encoder_deprecation_msg, UserWarning)\n"
     ]
    },
    {
     "name": "stdout",
     "output_type": "stream",
     "text": [
      "[0]\tvalidation_0-auc:0.79866\tvalidation_1-auc:0.79742\n",
      "[1000]\tvalidation_0-auc:0.81784\tvalidation_1-auc:0.81049\n",
      "[2000]\tvalidation_0-auc:0.82218\tvalidation_1-auc:0.81256\n",
      "[3000]\tvalidation_0-auc:0.82500\tvalidation_1-auc:0.81341\n",
      "[4000]\tvalidation_0-auc:0.82747\tvalidation_1-auc:0.81400\n",
      "[5000]\tvalidation_0-auc:0.82985\tvalidation_1-auc:0.81436\n",
      "[6000]\tvalidation_0-auc:0.83214\tvalidation_1-auc:0.81466\n",
      "[7000]\tvalidation_0-auc:0.83445\tvalidation_1-auc:0.81488\n",
      "[8000]\tvalidation_0-auc:0.83669\tvalidation_1-auc:0.81504\n",
      "[9000]\tvalidation_0-auc:0.83895\tvalidation_1-auc:0.81515\n",
      "[10000]\tvalidation_0-auc:0.84115\tvalidation_1-auc:0.81522\n",
      "[11000]\tvalidation_0-auc:0.84330\tvalidation_1-auc:0.81532\n",
      "[12000]\tvalidation_0-auc:0.84541\tvalidation_1-auc:0.81536\n",
      "[12483]\tvalidation_0-auc:0.84643\tvalidation_1-auc:0.81537\n",
      "Fold:4 score:0.8154\n"
     ]
    },
    {
     "name": "stderr",
     "output_type": "stream",
     "text": [
      "/opt/conda/lib/python3.7/site-packages/xgboost/sklearn.py:1146: UserWarning: The use of label encoder in XGBClassifier is deprecated and will be removed in a future release. To remove this warning, do the following: 1) Pass option use_label_encoder=False when constructing XGBClassifier object; and 2) Encode your labels (y) as integers starting with 0, i.e. 0, 1, 2, ..., [num_class - 1].\n",
      "  warnings.warn(label_encoder_deprecation_msg, UserWarning)\n"
     ]
    },
    {
     "name": "stdout",
     "output_type": "stream",
     "text": [
      "[0]\tvalidation_0-auc:0.79838\tvalidation_1-auc:0.79733\n",
      "[1000]\tvalidation_0-auc:0.81778\tvalidation_1-auc:0.81108\n",
      "[2000]\tvalidation_0-auc:0.82208\tvalidation_1-auc:0.81308\n",
      "[3000]\tvalidation_0-auc:0.82493\tvalidation_1-auc:0.81392\n",
      "[4000]\tvalidation_0-auc:0.82739\tvalidation_1-auc:0.81445\n",
      "[5000]\tvalidation_0-auc:0.82976\tvalidation_1-auc:0.81480\n",
      "[6000]\tvalidation_0-auc:0.83209\tvalidation_1-auc:0.81504\n",
      "[7000]\tvalidation_0-auc:0.83439\tvalidation_1-auc:0.81524\n",
      "[8000]\tvalidation_0-auc:0.83669\tvalidation_1-auc:0.81533\n",
      "[9000]\tvalidation_0-auc:0.83892\tvalidation_1-auc:0.81545\n",
      "[9853]\tvalidation_0-auc:0.84081\tvalidation_1-auc:0.81550\n",
      "Fold:5 score:0.8155\n",
      "Average score:0.8161 (0.0011)\n",
      "------------------------------\n"
     ]
    },
    {
     "data": {
      "text/html": [
       "<div>\n",
       "<style scoped>\n",
       "    .dataframe tbody tr th:only-of-type {\n",
       "        vertical-align: middle;\n",
       "    }\n",
       "\n",
       "    .dataframe tbody tr th {\n",
       "        vertical-align: top;\n",
       "    }\n",
       "\n",
       "    .dataframe thead th {\n",
       "        text-align: right;\n",
       "    }\n",
       "</style>\n",
       "<table border=\"1\" class=\"dataframe\">\n",
       "  <thead>\n",
       "    <tr style=\"text-align: right;\">\n",
       "      <th></th>\n",
       "      <th>XGBClassifier_seed_42</th>\n",
       "      <th>XGBClassifier_seed_43</th>\n",
       "      <th>XGBClassifier_seed_44</th>\n",
       "      <th>XGBClassifier_seed_45</th>\n",
       "      <th>XGBClassifier_seed_46</th>\n",
       "      <th>XGBClassifier_seed_47</th>\n",
       "      <th>XGBClassifier_seed_48</th>\n",
       "      <th>XGBClassifier_seed_49</th>\n",
       "      <th>XGBClassifier_seed_50</th>\n",
       "    </tr>\n",
       "  </thead>\n",
       "  <tbody>\n",
       "    <tr>\n",
       "      <th>0</th>\n",
       "      <td>0.574032</td>\n",
       "      <td>0.558254</td>\n",
       "      <td>0.577429</td>\n",
       "      <td>0.583098</td>\n",
       "      <td>0.567952</td>\n",
       "      <td>0.565287</td>\n",
       "      <td>0.557048</td>\n",
       "      <td>0.585667</td>\n",
       "      <td>0.586410</td>\n",
       "    </tr>\n",
       "    <tr>\n",
       "      <th>1</th>\n",
       "      <td>0.172318</td>\n",
       "      <td>0.172514</td>\n",
       "      <td>0.173474</td>\n",
       "      <td>0.164690</td>\n",
       "      <td>0.166969</td>\n",
       "      <td>0.177321</td>\n",
       "      <td>0.169570</td>\n",
       "      <td>0.165053</td>\n",
       "      <td>0.158789</td>\n",
       "    </tr>\n",
       "    <tr>\n",
       "      <th>2</th>\n",
       "      <td>0.806406</td>\n",
       "      <td>0.807042</td>\n",
       "      <td>0.824119</td>\n",
       "      <td>0.815907</td>\n",
       "      <td>0.840936</td>\n",
       "      <td>0.827772</td>\n",
       "      <td>0.838242</td>\n",
       "      <td>0.808805</td>\n",
       "      <td>0.811777</td>\n",
       "    </tr>\n",
       "    <tr>\n",
       "      <th>3</th>\n",
       "      <td>0.785276</td>\n",
       "      <td>0.795352</td>\n",
       "      <td>0.804891</td>\n",
       "      <td>0.802182</td>\n",
       "      <td>0.771534</td>\n",
       "      <td>0.795239</td>\n",
       "      <td>0.776732</td>\n",
       "      <td>0.800540</td>\n",
       "      <td>0.789282</td>\n",
       "    </tr>\n",
       "    <tr>\n",
       "      <th>4</th>\n",
       "      <td>0.777838</td>\n",
       "      <td>0.782893</td>\n",
       "      <td>0.792105</td>\n",
       "      <td>0.785199</td>\n",
       "      <td>0.798111</td>\n",
       "      <td>0.772324</td>\n",
       "      <td>0.785910</td>\n",
       "      <td>0.784927</td>\n",
       "      <td>0.781707</td>\n",
       "    </tr>\n",
       "    <tr>\n",
       "      <th>5</th>\n",
       "      <td>0.447601</td>\n",
       "      <td>0.421030</td>\n",
       "      <td>0.430860</td>\n",
       "      <td>0.438568</td>\n",
       "      <td>0.452559</td>\n",
       "      <td>0.418826</td>\n",
       "      <td>0.392170</td>\n",
       "      <td>0.449788</td>\n",
       "      <td>0.454433</td>\n",
       "    </tr>\n",
       "    <tr>\n",
       "      <th>6</th>\n",
       "      <td>0.777173</td>\n",
       "      <td>0.771370</td>\n",
       "      <td>0.788934</td>\n",
       "      <td>0.778708</td>\n",
       "      <td>0.781524</td>\n",
       "      <td>0.789102</td>\n",
       "      <td>0.786852</td>\n",
       "      <td>0.777813</td>\n",
       "      <td>0.771758</td>\n",
       "    </tr>\n",
       "    <tr>\n",
       "      <th>7</th>\n",
       "      <td>0.663565</td>\n",
       "      <td>0.656446</td>\n",
       "      <td>0.673704</td>\n",
       "      <td>0.629198</td>\n",
       "      <td>0.648916</td>\n",
       "      <td>0.650476</td>\n",
       "      <td>0.679579</td>\n",
       "      <td>0.684076</td>\n",
       "      <td>0.688596</td>\n",
       "    </tr>\n",
       "    <tr>\n",
       "      <th>8</th>\n",
       "      <td>0.179460</td>\n",
       "      <td>0.170501</td>\n",
       "      <td>0.192721</td>\n",
       "      <td>0.189006</td>\n",
       "      <td>0.191672</td>\n",
       "      <td>0.185844</td>\n",
       "      <td>0.187959</td>\n",
       "      <td>0.189348</td>\n",
       "      <td>0.178556</td>\n",
       "    </tr>\n",
       "    <tr>\n",
       "      <th>9</th>\n",
       "      <td>0.178784</td>\n",
       "      <td>0.207111</td>\n",
       "      <td>0.192861</td>\n",
       "      <td>0.179767</td>\n",
       "      <td>0.178435</td>\n",
       "      <td>0.185040</td>\n",
       "      <td>0.186918</td>\n",
       "      <td>0.172962</td>\n",
       "      <td>0.176062</td>\n",
       "    </tr>\n",
       "  </tbody>\n",
       "</table>\n",
       "</div>"
      ],
      "text/plain": [
       "   XGBClassifier_seed_42  XGBClassifier_seed_43  XGBClassifier_seed_44  \\\n",
       "0               0.574032               0.558254               0.577429   \n",
       "1               0.172318               0.172514               0.173474   \n",
       "2               0.806406               0.807042               0.824119   \n",
       "3               0.785276               0.795352               0.804891   \n",
       "4               0.777838               0.782893               0.792105   \n",
       "5               0.447601               0.421030               0.430860   \n",
       "6               0.777173               0.771370               0.788934   \n",
       "7               0.663565               0.656446               0.673704   \n",
       "8               0.179460               0.170501               0.192721   \n",
       "9               0.178784               0.207111               0.192861   \n",
       "\n",
       "   XGBClassifier_seed_45  XGBClassifier_seed_46  XGBClassifier_seed_47  \\\n",
       "0               0.583098               0.567952               0.565287   \n",
       "1               0.164690               0.166969               0.177321   \n",
       "2               0.815907               0.840936               0.827772   \n",
       "3               0.802182               0.771534               0.795239   \n",
       "4               0.785199               0.798111               0.772324   \n",
       "5               0.438568               0.452559               0.418826   \n",
       "6               0.778708               0.781524               0.789102   \n",
       "7               0.629198               0.648916               0.650476   \n",
       "8               0.189006               0.191672               0.185844   \n",
       "9               0.179767               0.178435               0.185040   \n",
       "\n",
       "   XGBClassifier_seed_48  XGBClassifier_seed_49  XGBClassifier_seed_50  \n",
       "0               0.557048               0.585667               0.586410  \n",
       "1               0.169570               0.165053               0.158789  \n",
       "2               0.838242               0.808805               0.811777  \n",
       "3               0.776732               0.800540               0.789282  \n",
       "4               0.785910               0.784927               0.781707  \n",
       "5               0.392170               0.449788               0.454433  \n",
       "6               0.786852               0.777813               0.771758  \n",
       "7               0.679579               0.684076               0.688596  \n",
       "8               0.187959               0.189348               0.178556  \n",
       "9               0.186918               0.172962               0.176062  "
      ]
     },
     "metadata": {},
     "output_type": "display_data"
    },
    {
     "data": {
      "text/html": [
       "<div>\n",
       "<style scoped>\n",
       "    .dataframe tbody tr th:only-of-type {\n",
       "        vertical-align: middle;\n",
       "    }\n",
       "\n",
       "    .dataframe tbody tr th {\n",
       "        vertical-align: top;\n",
       "    }\n",
       "\n",
       "    .dataframe thead th {\n",
       "        text-align: right;\n",
       "    }\n",
       "</style>\n",
       "<table border=\"1\" class=\"dataframe\">\n",
       "  <thead>\n",
       "    <tr style=\"text-align: right;\">\n",
       "      <th></th>\n",
       "      <th>XGBClassifier_seed_42</th>\n",
       "      <th>XGBClassifier_seed_43</th>\n",
       "      <th>XGBClassifier_seed_44</th>\n",
       "      <th>XGBClassifier_seed_45</th>\n",
       "      <th>XGBClassifier_seed_46</th>\n",
       "      <th>XGBClassifier_seed_47</th>\n",
       "      <th>XGBClassifier_seed_48</th>\n",
       "      <th>XGBClassifier_seed_49</th>\n",
       "      <th>XGBClassifier_seed_50</th>\n",
       "    </tr>\n",
       "  </thead>\n",
       "  <tbody>\n",
       "    <tr>\n",
       "      <th>0</th>\n",
       "      <td>0.570304</td>\n",
       "      <td>0.571341</td>\n",
       "      <td>0.571977</td>\n",
       "      <td>0.565733</td>\n",
       "      <td>0.572773</td>\n",
       "      <td>0.570533</td>\n",
       "      <td>0.561267</td>\n",
       "      <td>0.569153</td>\n",
       "      <td>0.569990</td>\n",
       "    </tr>\n",
       "    <tr>\n",
       "      <th>1</th>\n",
       "      <td>0.123918</td>\n",
       "      <td>0.123646</td>\n",
       "      <td>0.121137</td>\n",
       "      <td>0.119370</td>\n",
       "      <td>0.125131</td>\n",
       "      <td>0.120313</td>\n",
       "      <td>0.123094</td>\n",
       "      <td>0.121039</td>\n",
       "      <td>0.124606</td>\n",
       "    </tr>\n",
       "    <tr>\n",
       "      <th>2</th>\n",
       "      <td>0.637998</td>\n",
       "      <td>0.634826</td>\n",
       "      <td>0.633701</td>\n",
       "      <td>0.634534</td>\n",
       "      <td>0.636692</td>\n",
       "      <td>0.630868</td>\n",
       "      <td>0.637449</td>\n",
       "      <td>0.637669</td>\n",
       "      <td>0.633959</td>\n",
       "    </tr>\n",
       "    <tr>\n",
       "      <th>3</th>\n",
       "      <td>0.128328</td>\n",
       "      <td>0.125954</td>\n",
       "      <td>0.128035</td>\n",
       "      <td>0.128491</td>\n",
       "      <td>0.125542</td>\n",
       "      <td>0.126903</td>\n",
       "      <td>0.127965</td>\n",
       "      <td>0.129404</td>\n",
       "      <td>0.124441</td>\n",
       "    </tr>\n",
       "    <tr>\n",
       "      <th>4</th>\n",
       "      <td>0.152237</td>\n",
       "      <td>0.156951</td>\n",
       "      <td>0.156745</td>\n",
       "      <td>0.156737</td>\n",
       "      <td>0.154215</td>\n",
       "      <td>0.157108</td>\n",
       "      <td>0.151989</td>\n",
       "      <td>0.150930</td>\n",
       "      <td>0.155373</td>\n",
       "    </tr>\n",
       "    <tr>\n",
       "      <th>5</th>\n",
       "      <td>0.180815</td>\n",
       "      <td>0.182130</td>\n",
       "      <td>0.177795</td>\n",
       "      <td>0.179429</td>\n",
       "      <td>0.180967</td>\n",
       "      <td>0.177052</td>\n",
       "      <td>0.176549</td>\n",
       "      <td>0.179292</td>\n",
       "      <td>0.180191</td>\n",
       "    </tr>\n",
       "    <tr>\n",
       "      <th>6</th>\n",
       "      <td>0.838238</td>\n",
       "      <td>0.838668</td>\n",
       "      <td>0.839094</td>\n",
       "      <td>0.839015</td>\n",
       "      <td>0.840130</td>\n",
       "      <td>0.843701</td>\n",
       "      <td>0.841456</td>\n",
       "      <td>0.842583</td>\n",
       "      <td>0.842793</td>\n",
       "    </tr>\n",
       "    <tr>\n",
       "      <th>7</th>\n",
       "      <td>0.139359</td>\n",
       "      <td>0.140771</td>\n",
       "      <td>0.136263</td>\n",
       "      <td>0.135420</td>\n",
       "      <td>0.139428</td>\n",
       "      <td>0.138992</td>\n",
       "      <td>0.136153</td>\n",
       "      <td>0.137996</td>\n",
       "      <td>0.138625</td>\n",
       "    </tr>\n",
       "    <tr>\n",
       "      <th>8</th>\n",
       "      <td>0.569015</td>\n",
       "      <td>0.574490</td>\n",
       "      <td>0.569588</td>\n",
       "      <td>0.567145</td>\n",
       "      <td>0.573581</td>\n",
       "      <td>0.571177</td>\n",
       "      <td>0.573364</td>\n",
       "      <td>0.570392</td>\n",
       "      <td>0.564318</td>\n",
       "    </tr>\n",
       "    <tr>\n",
       "      <th>9</th>\n",
       "      <td>0.744184</td>\n",
       "      <td>0.738952</td>\n",
       "      <td>0.742208</td>\n",
       "      <td>0.746253</td>\n",
       "      <td>0.747845</td>\n",
       "      <td>0.739708</td>\n",
       "      <td>0.742195</td>\n",
       "      <td>0.749448</td>\n",
       "      <td>0.744227</td>\n",
       "    </tr>\n",
       "  </tbody>\n",
       "</table>\n",
       "</div>"
      ],
      "text/plain": [
       "   XGBClassifier_seed_42  XGBClassifier_seed_43  XGBClassifier_seed_44  \\\n",
       "0               0.570304               0.571341               0.571977   \n",
       "1               0.123918               0.123646               0.121137   \n",
       "2               0.637998               0.634826               0.633701   \n",
       "3               0.128328               0.125954               0.128035   \n",
       "4               0.152237               0.156951               0.156745   \n",
       "5               0.180815               0.182130               0.177795   \n",
       "6               0.838238               0.838668               0.839094   \n",
       "7               0.139359               0.140771               0.136263   \n",
       "8               0.569015               0.574490               0.569588   \n",
       "9               0.744184               0.738952               0.742208   \n",
       "\n",
       "   XGBClassifier_seed_45  XGBClassifier_seed_46  XGBClassifier_seed_47  \\\n",
       "0               0.565733               0.572773               0.570533   \n",
       "1               0.119370               0.125131               0.120313   \n",
       "2               0.634534               0.636692               0.630868   \n",
       "3               0.128491               0.125542               0.126903   \n",
       "4               0.156737               0.154215               0.157108   \n",
       "5               0.179429               0.180967               0.177052   \n",
       "6               0.839015               0.840130               0.843701   \n",
       "7               0.135420               0.139428               0.138992   \n",
       "8               0.567145               0.573581               0.571177   \n",
       "9               0.746253               0.747845               0.739708   \n",
       "\n",
       "   XGBClassifier_seed_48  XGBClassifier_seed_49  XGBClassifier_seed_50  \n",
       "0               0.561267               0.569153               0.569990  \n",
       "1               0.123094               0.121039               0.124606  \n",
       "2               0.637449               0.637669               0.633959  \n",
       "3               0.127965               0.129404               0.124441  \n",
       "4               0.151989               0.150930               0.155373  \n",
       "5               0.176549               0.179292               0.180191  \n",
       "6               0.841456               0.842583               0.842793  \n",
       "7               0.136153               0.137996               0.138625  \n",
       "8               0.573364               0.570392               0.564318  \n",
       "9               0.742195               0.749448               0.744227  "
      ]
     },
     "metadata": {},
     "output_type": "display_data"
    },
    {
     "name": "stdout",
     "output_type": "stream",
     "text": [
      "--------------------------------------------------\n",
      "Current Level: meta_level\n",
      "--------------------------------------------------\n",
      "------------------------------\n",
      "Model:RandomForestClassifier\n",
      "------------------------------\n",
      "------------------------------\n",
      "Seed:42\n",
      "------------------------------\n",
      "Fold:1 score:0.8167\n",
      "Fold:2 score:0.8175\n",
      "Fold:3 score:0.8167\n",
      "Fold:4 score:0.8162\n",
      "Fold:5 score:0.8156\n",
      "Average score:0.8166 (0.0006)\n",
      "------------------------------\n"
     ]
    },
    {
     "data": {
      "text/html": [
       "<div>\n",
       "<style scoped>\n",
       "    .dataframe tbody tr th:only-of-type {\n",
       "        vertical-align: middle;\n",
       "    }\n",
       "\n",
       "    .dataframe tbody tr th {\n",
       "        vertical-align: top;\n",
       "    }\n",
       "\n",
       "    .dataframe thead th {\n",
       "        text-align: right;\n",
       "    }\n",
       "</style>\n",
       "<table border=\"1\" class=\"dataframe\">\n",
       "  <thead>\n",
       "    <tr style=\"text-align: right;\">\n",
       "      <th></th>\n",
       "      <th>RandomForestClassifier_seed_42</th>\n",
       "    </tr>\n",
       "  </thead>\n",
       "  <tbody>\n",
       "    <tr>\n",
       "      <th>0</th>\n",
       "      <td>0.568038</td>\n",
       "    </tr>\n",
       "    <tr>\n",
       "      <th>1</th>\n",
       "      <td>0.167683</td>\n",
       "    </tr>\n",
       "    <tr>\n",
       "      <th>2</th>\n",
       "      <td>0.820099</td>\n",
       "    </tr>\n",
       "    <tr>\n",
       "      <th>3</th>\n",
       "      <td>0.791873</td>\n",
       "    </tr>\n",
       "    <tr>\n",
       "      <th>4</th>\n",
       "      <td>0.786931</td>\n",
       "    </tr>\n",
       "    <tr>\n",
       "      <th>5</th>\n",
       "      <td>0.428447</td>\n",
       "    </tr>\n",
       "    <tr>\n",
       "      <th>6</th>\n",
       "      <td>0.784820</td>\n",
       "    </tr>\n",
       "    <tr>\n",
       "      <th>7</th>\n",
       "      <td>0.653929</td>\n",
       "    </tr>\n",
       "    <tr>\n",
       "      <th>8</th>\n",
       "      <td>0.179775</td>\n",
       "    </tr>\n",
       "    <tr>\n",
       "      <th>9</th>\n",
       "      <td>0.181568</td>\n",
       "    </tr>\n",
       "  </tbody>\n",
       "</table>\n",
       "</div>"
      ],
      "text/plain": [
       "   RandomForestClassifier_seed_42\n",
       "0                        0.568038\n",
       "1                        0.167683\n",
       "2                        0.820099\n",
       "3                        0.791873\n",
       "4                        0.786931\n",
       "5                        0.428447\n",
       "6                        0.784820\n",
       "7                        0.653929\n",
       "8                        0.179775\n",
       "9                        0.181568"
      ]
     },
     "metadata": {},
     "output_type": "display_data"
    },
    {
     "data": {
      "text/html": [
       "<div>\n",
       "<style scoped>\n",
       "    .dataframe tbody tr th:only-of-type {\n",
       "        vertical-align: middle;\n",
       "    }\n",
       "\n",
       "    .dataframe tbody tr th {\n",
       "        vertical-align: top;\n",
       "    }\n",
       "\n",
       "    .dataframe thead th {\n",
       "        text-align: right;\n",
       "    }\n",
       "</style>\n",
       "<table border=\"1\" class=\"dataframe\">\n",
       "  <thead>\n",
       "    <tr style=\"text-align: right;\">\n",
       "      <th></th>\n",
       "      <th>RandomForestClassifier_seed_42</th>\n",
       "    </tr>\n",
       "  </thead>\n",
       "  <tbody>\n",
       "    <tr>\n",
       "      <th>0</th>\n",
       "      <td>0.570463</td>\n",
       "    </tr>\n",
       "    <tr>\n",
       "      <th>1</th>\n",
       "      <td>0.123853</td>\n",
       "    </tr>\n",
       "    <tr>\n",
       "      <th>2</th>\n",
       "      <td>0.632315</td>\n",
       "    </tr>\n",
       "    <tr>\n",
       "      <th>3</th>\n",
       "      <td>0.130626</td>\n",
       "    </tr>\n",
       "    <tr>\n",
       "      <th>4</th>\n",
       "      <td>0.156176</td>\n",
       "    </tr>\n",
       "    <tr>\n",
       "      <th>5</th>\n",
       "      <td>0.180590</td>\n",
       "    </tr>\n",
       "    <tr>\n",
       "      <th>6</th>\n",
       "      <td>0.842449</td>\n",
       "    </tr>\n",
       "    <tr>\n",
       "      <th>7</th>\n",
       "      <td>0.135266</td>\n",
       "    </tr>\n",
       "    <tr>\n",
       "      <th>8</th>\n",
       "      <td>0.571715</td>\n",
       "    </tr>\n",
       "    <tr>\n",
       "      <th>9</th>\n",
       "      <td>0.744925</td>\n",
       "    </tr>\n",
       "  </tbody>\n",
       "</table>\n",
       "</div>"
      ],
      "text/plain": [
       "   RandomForestClassifier_seed_42\n",
       "0                        0.570463\n",
       "1                        0.123853\n",
       "2                        0.632315\n",
       "3                        0.130626\n",
       "4                        0.156176\n",
       "5                        0.180590\n",
       "6                        0.842449\n",
       "7                        0.135266\n",
       "8                        0.571715\n",
       "9                        0.744925"
      ]
     },
     "metadata": {},
     "output_type": "display_data"
    }
   ],
   "source": [
    "# create experiment\n",
    "experiments_folder = \"Experiments\"\n",
    "experiment_folder = 'experiement_1' # if None a folder with time stamp will be created\n",
    "experiment_description = \"Simple model, multiple seeds\"\n",
    "\n",
    "\n",
    "ml30_experiment = Experiment(title='ML 30 days',\n",
    "                             description=experiment_description,\n",
    "                             stack=stack,\n",
    "                             model_zoo=model_zoo,\n",
    "                             main_folder=f'{os.getcwd()}{os.sep}{experiments_folder}')\n",
    "\n",
    "ml30_experiment.join_folder(experiment_folder)\n",
    "\n",
    "results = ml30_experiment.run(X_train=X_train_.values,\n",
    "                     y=y.values, \n",
    "                     X_test=X_test_.values,\n",
    "                     train_idxs = X_train_.index,\n",
    "                     test_idxs = X_test_.index)\n",
    "\n"
   ]
  },
  {
   "cell_type": "code",
   "execution_count": 26,
   "id": "4ae849ea",
   "metadata": {
    "execution": {
     "iopub.execute_input": "2021-09-15T04:08:26.219211Z",
     "iopub.status.busy": "2021-09-15T04:08:26.218541Z",
     "iopub.status.idle": "2021-09-15T04:08:26.221637Z",
     "shell.execute_reply": "2021-09-15T04:08:26.222033Z",
     "shell.execute_reply.started": "2021-09-15T00:54:28.981864Z"
    },
    "papermill": {
     "duration": 0.206167,
     "end_time": "2021-09-15T04:08:26.222161",
     "exception": false,
     "start_time": "2021-09-15T04:08:26.015994",
     "status": "completed"
    },
    "tags": []
   },
   "outputs": [
    {
     "data": {
      "text/html": [
       "<div>\n",
       "<style scoped>\n",
       "    .dataframe tbody tr th:only-of-type {\n",
       "        vertical-align: middle;\n",
       "    }\n",
       "\n",
       "    .dataframe tbody tr th {\n",
       "        vertical-align: top;\n",
       "    }\n",
       "\n",
       "    .dataframe thead th {\n",
       "        text-align: right;\n",
       "    }\n",
       "</style>\n",
       "<table border=\"1\" class=\"dataframe\">\n",
       "  <thead>\n",
       "    <tr style=\"text-align: right;\">\n",
       "      <th></th>\n",
       "      <th>RandomForestClassifier_seed_42</th>\n",
       "    </tr>\n",
       "  </thead>\n",
       "  <tbody>\n",
       "    <tr>\n",
       "      <th>0</th>\n",
       "      <td>0.570463</td>\n",
       "    </tr>\n",
       "    <tr>\n",
       "      <th>1</th>\n",
       "      <td>0.123853</td>\n",
       "    </tr>\n",
       "    <tr>\n",
       "      <th>2</th>\n",
       "      <td>0.632315</td>\n",
       "    </tr>\n",
       "    <tr>\n",
       "      <th>3</th>\n",
       "      <td>0.130626</td>\n",
       "    </tr>\n",
       "    <tr>\n",
       "      <th>4</th>\n",
       "      <td>0.156176</td>\n",
       "    </tr>\n",
       "    <tr>\n",
       "      <th>5</th>\n",
       "      <td>0.180590</td>\n",
       "    </tr>\n",
       "    <tr>\n",
       "      <th>6</th>\n",
       "      <td>0.842449</td>\n",
       "    </tr>\n",
       "    <tr>\n",
       "      <th>7</th>\n",
       "      <td>0.135266</td>\n",
       "    </tr>\n",
       "    <tr>\n",
       "      <th>8</th>\n",
       "      <td>0.571715</td>\n",
       "    </tr>\n",
       "    <tr>\n",
       "      <th>9</th>\n",
       "      <td>0.744925</td>\n",
       "    </tr>\n",
       "  </tbody>\n",
       "</table>\n",
       "</div>"
      ],
      "text/plain": [
       "   RandomForestClassifier_seed_42\n",
       "0                        0.570463\n",
       "1                        0.123853\n",
       "2                        0.632315\n",
       "3                        0.130626\n",
       "4                        0.156176\n",
       "5                        0.180590\n",
       "6                        0.842449\n",
       "7                        0.135266\n",
       "8                        0.571715\n",
       "9                        0.744925"
      ]
     },
     "execution_count": 26,
     "metadata": {},
     "output_type": "execute_result"
    }
   ],
   "source": [
    "# final results\n",
    "results.head(10)"
   ]
  },
  {
   "cell_type": "markdown",
   "id": "06530b40",
   "metadata": {
    "papermill": {
     "duration": 0.190851,
     "end_time": "2021-09-15T04:08:26.603389",
     "exception": false,
     "start_time": "2021-09-15T04:08:26.412538",
     "status": "completed"
    },
    "tags": []
   },
   "source": [
    "### Submit the results"
   ]
  },
  {
   "cell_type": "code",
   "execution_count": 27,
   "id": "356dde2c",
   "metadata": {
    "execution": {
     "iopub.execute_input": "2021-09-15T04:08:26.991830Z",
     "iopub.status.busy": "2021-09-15T04:08:26.991098Z",
     "iopub.status.idle": "2021-09-15T04:08:26.993342Z",
     "shell.execute_reply": "2021-09-15T04:08:26.993824Z",
     "shell.execute_reply.started": "2021-09-15T00:54:28.983528Z"
    },
    "papermill": {
     "duration": 0.199086,
     "end_time": "2021-09-15T04:08:26.993962",
     "exception": false,
     "start_time": "2021-09-15T04:08:26.794876",
     "status": "completed"
    },
    "tags": []
   },
   "outputs": [],
   "source": [
    "predictions = results.iloc[:, -1].values"
   ]
  },
  {
   "cell_type": "code",
   "execution_count": 28,
   "id": "ee6e8c03",
   "metadata": {
    "execution": {
     "iopub.execute_input": "2021-09-15T04:08:27.522319Z",
     "iopub.status.busy": "2021-09-15T04:08:27.521439Z",
     "iopub.status.idle": "2021-09-15T04:08:29.113086Z",
     "shell.execute_reply": "2021-09-15T04:08:29.112616Z",
     "shell.execute_reply.started": "2021-09-15T00:54:28.985639Z"
    },
    "papermill": {
     "duration": 1.928474,
     "end_time": "2021-09-15T04:08:29.113252",
     "exception": false,
     "start_time": "2021-09-15T04:08:27.184778",
     "status": "completed"
    },
    "tags": []
   },
   "outputs": [],
   "source": [
    "# Save the predictions to a CSV file\n",
    "output = pd.DataFrame({'id': X_test.index,\n",
    "                       'target': predictions})\n",
    "output.to_csv('submission.csv', index=False)"
   ]
  },
  {
   "cell_type": "code",
   "execution_count": 29,
   "id": "af9bf468",
   "metadata": {
    "execution": {
     "iopub.execute_input": "2021-09-15T04:08:29.504610Z",
     "iopub.status.busy": "2021-09-15T04:08:29.503904Z",
     "iopub.status.idle": "2021-09-15T04:08:29.506712Z",
     "shell.execute_reply": "2021-09-15T04:08:29.507096Z",
     "shell.execute_reply.started": "2021-09-15T00:54:28.987343Z"
    },
    "papermill": {
     "duration": 0.202447,
     "end_time": "2021-09-15T04:08:29.507234",
     "exception": false,
     "start_time": "2021-09-15T04:08:29.304787",
     "status": "completed"
    },
    "tags": []
   },
   "outputs": [
    {
     "data": {
      "text/html": [
       "<div>\n",
       "<style scoped>\n",
       "    .dataframe tbody tr th:only-of-type {\n",
       "        vertical-align: middle;\n",
       "    }\n",
       "\n",
       "    .dataframe tbody tr th {\n",
       "        vertical-align: top;\n",
       "    }\n",
       "\n",
       "    .dataframe thead th {\n",
       "        text-align: right;\n",
       "    }\n",
       "</style>\n",
       "<table border=\"1\" class=\"dataframe\">\n",
       "  <thead>\n",
       "    <tr style=\"text-align: right;\">\n",
       "      <th></th>\n",
       "      <th>id</th>\n",
       "      <th>target</th>\n",
       "    </tr>\n",
       "  </thead>\n",
       "  <tbody>\n",
       "    <tr>\n",
       "      <th>0</th>\n",
       "      <td>957919</td>\n",
       "      <td>0.570463</td>\n",
       "    </tr>\n",
       "    <tr>\n",
       "      <th>1</th>\n",
       "      <td>957920</td>\n",
       "      <td>0.123853</td>\n",
       "    </tr>\n",
       "    <tr>\n",
       "      <th>2</th>\n",
       "      <td>957921</td>\n",
       "      <td>0.632315</td>\n",
       "    </tr>\n",
       "    <tr>\n",
       "      <th>3</th>\n",
       "      <td>957922</td>\n",
       "      <td>0.130626</td>\n",
       "    </tr>\n",
       "    <tr>\n",
       "      <th>4</th>\n",
       "      <td>957923</td>\n",
       "      <td>0.156176</td>\n",
       "    </tr>\n",
       "    <tr>\n",
       "      <th>5</th>\n",
       "      <td>957924</td>\n",
       "      <td>0.180590</td>\n",
       "    </tr>\n",
       "    <tr>\n",
       "      <th>6</th>\n",
       "      <td>957925</td>\n",
       "      <td>0.842449</td>\n",
       "    </tr>\n",
       "    <tr>\n",
       "      <th>7</th>\n",
       "      <td>957926</td>\n",
       "      <td>0.135266</td>\n",
       "    </tr>\n",
       "    <tr>\n",
       "      <th>8</th>\n",
       "      <td>957927</td>\n",
       "      <td>0.571715</td>\n",
       "    </tr>\n",
       "    <tr>\n",
       "      <th>9</th>\n",
       "      <td>957928</td>\n",
       "      <td>0.744925</td>\n",
       "    </tr>\n",
       "    <tr>\n",
       "      <th>10</th>\n",
       "      <td>957929</td>\n",
       "      <td>0.783270</td>\n",
       "    </tr>\n",
       "    <tr>\n",
       "      <th>11</th>\n",
       "      <td>957930</td>\n",
       "      <td>0.650867</td>\n",
       "    </tr>\n",
       "    <tr>\n",
       "      <th>12</th>\n",
       "      <td>957931</td>\n",
       "      <td>0.816157</td>\n",
       "    </tr>\n",
       "    <tr>\n",
       "      <th>13</th>\n",
       "      <td>957932</td>\n",
       "      <td>0.768258</td>\n",
       "    </tr>\n",
       "    <tr>\n",
       "      <th>14</th>\n",
       "      <td>957933</td>\n",
       "      <td>0.766455</td>\n",
       "    </tr>\n",
       "    <tr>\n",
       "      <th>15</th>\n",
       "      <td>957934</td>\n",
       "      <td>0.703721</td>\n",
       "    </tr>\n",
       "    <tr>\n",
       "      <th>16</th>\n",
       "      <td>957935</td>\n",
       "      <td>0.076193</td>\n",
       "    </tr>\n",
       "    <tr>\n",
       "      <th>17</th>\n",
       "      <td>957936</td>\n",
       "      <td>0.799254</td>\n",
       "    </tr>\n",
       "    <tr>\n",
       "      <th>18</th>\n",
       "      <td>957937</td>\n",
       "      <td>0.748082</td>\n",
       "    </tr>\n",
       "    <tr>\n",
       "      <th>19</th>\n",
       "      <td>957938</td>\n",
       "      <td>0.175631</td>\n",
       "    </tr>\n",
       "  </tbody>\n",
       "</table>\n",
       "</div>"
      ],
      "text/plain": [
       "        id    target\n",
       "0   957919  0.570463\n",
       "1   957920  0.123853\n",
       "2   957921  0.632315\n",
       "3   957922  0.130626\n",
       "4   957923  0.156176\n",
       "5   957924  0.180590\n",
       "6   957925  0.842449\n",
       "7   957926  0.135266\n",
       "8   957927  0.571715\n",
       "9   957928  0.744925\n",
       "10  957929  0.783270\n",
       "11  957930  0.650867\n",
       "12  957931  0.816157\n",
       "13  957932  0.768258\n",
       "14  957933  0.766455\n",
       "15  957934  0.703721\n",
       "16  957935  0.076193\n",
       "17  957936  0.799254\n",
       "18  957937  0.748082\n",
       "19  957938  0.175631"
      ]
     },
     "execution_count": 29,
     "metadata": {},
     "output_type": "execute_result"
    }
   ],
   "source": [
    "# results \n",
    "output.head(20)"
   ]
  }
 ],
 "metadata": {
  "kernelspec": {
   "display_name": "Python 3",
   "language": "python",
   "name": "python3"
  },
  "language_info": {
   "codemirror_mode": {
    "name": "ipython",
    "version": 3
   },
   "file_extension": ".py",
   "mimetype": "text/x-python",
   "name": "python",
   "nbconvert_exporter": "python",
   "pygments_lexer": "ipython3",
   "version": "3.7.10"
  },
  "papermill": {
   "default_parameters": {},
   "duration": 11585.740807,
   "end_time": "2021-09-15T04:08:30.809670",
   "environment_variables": {},
   "exception": null,
   "input_path": "__notebook__.ipynb",
   "output_path": "__notebook__.ipynb",
   "parameters": {},
   "start_time": "2021-09-15T00:55:25.068863",
   "version": "2.3.3"
  }
 },
 "nbformat": 4,
 "nbformat_minor": 5
}
